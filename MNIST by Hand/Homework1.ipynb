{
  "nbformat": 4,
  "nbformat_minor": 0,
  "metadata": {
    "colab": {
      "name": "Homework1.ipynb",
      "version": "0.3.2",
      "provenance": [],
      "collapsed_sections": []
    },
    "kernelspec": {
      "name": "python3",
      "display_name": "Python 3"
    }
  },
  "cells": [
    {
      "metadata": {
        "id": "2kGKqMJeeqg2",
        "colab_type": "code",
        "colab": {}
      },
      "cell_type": "code",
      "source": [
        "####\n",
        "#PLEASE READ:\n",
        "#1.)Each problem is marked with a comment header.\n",
        "#2.)Each problem should be run in order.\n",
        "#3.)I have tried to keep variables seperate but running a problem out of order or re-running after having run other problems may lead to issues.\n",
        "#4.)Thank you for grading my work.\n"
      ],
      "execution_count": 0,
      "outputs": []
    },
    {
      "metadata": {
        "id": "SeDXC1BOXCUU",
        "colab_type": "code",
        "colab": {
          "base_uri": "https://localhost:8080/",
          "height": 70
        },
        "outputId": "4057ff5c-67b9-4a0e-bb59-b1c35e1567c0"
      },
      "cell_type": "code",
      "source": [
        "#Importing dependancies \n",
        "import keras\n",
        "from keras.datasets import mnist\n",
        "import matplotlib.pyplot as plt\n",
        "import numpy as np\n",
        "from IPython.display import clear_output\n",
        "#Load Data\n",
        "(x_train,y_train),(x_test,y_test) = mnist.load_data()\n",
        "learningRate = .01"
      ],
      "execution_count": 3,
      "outputs": [
        {
          "output_type": "stream",
          "text": [
            "Using TensorFlow backend.\n"
          ],
          "name": "stderr"
        },
        {
          "output_type": "stream",
          "text": [
            "Downloading data from https://s3.amazonaws.com/img-datasets/mnist.npz\n",
            "11493376/11490434 [==============================] - 0s 0us/step\n"
          ],
          "name": "stdout"
        }
      ]
    },
    {
      "metadata": {
        "id": "je_Hyw91deCH",
        "colab_type": "code",
        "colab": {}
      },
      "cell_type": "code",
      "source": [
        "#Defining general functions.\n",
        "def sigmoid(x):\n",
        "  return 1. / (1. + np.exp(-x))\n",
        "\n",
        "def sigmoidDerivative(x):\n",
        "  sig=sigmoid(x)\n",
        "  return sig*(1. - sig)\n",
        "\n",
        "def changeToBinary(label,num):\n",
        "  labelCopy = np.array(label)\n",
        "  for i in range(label.size):\n",
        "    if(labelCopy[i] == num):\n",
        "      labelCopy[i]=1\n",
        "    else:\n",
        "      labelCopy[i]=0 \n",
        "  return labelCopy  \n",
        "\n",
        "def softmax(x):\n",
        "   return np.exp(x) / np.sum(np.exp(x), axis=0)"
      ],
      "execution_count": 0,
      "outputs": []
    },
    {
      "metadata": {
        "id": "UBylarWLlsyK",
        "colab_type": "code",
        "colab": {}
      },
      "cell_type": "code",
      "source": [
        "###########\n",
        "#PROBLEM 1#\n",
        "###########\n",
        "\n",
        "def miniBatchSGDMeanSquared(x_train,y_train,epoch=10,batch=5,model=0):\n",
        "  np.random.seed(20)\n",
        "  \n",
        "  numFeatures = int(x_train.size/784)\n",
        "  #Flaten to a 2D array\n",
        "  xFlat = (x_train.reshape(60000,784))\n",
        "  yTrain = (y_train.reshape(60000,1))\n",
        "  \n",
        "  #normalize and add bias to features\n",
        "  normFeatures = xFlat/255\n",
        "  featuresBias = np.c_[np.ones((60000,1)),normFeatures]\n",
        "  \n",
        "  weights = np.random.randn(785,1)#785 pixels per image(28^2) +1 for bias\n",
        "  weightsList = []\n",
        "  \n",
        "  #change labels to binary\n",
        "  binaryLabels = changeToBinary(yTrain,model)\n",
        "\n",
        "  for epoch in range(epoch):\n",
        "    #Taken from Linear Regression class notebook by Paul Wocjan\n",
        "    shuffledIndices = np.random.permutation(numFeatures)\n",
        "    shuffledFeatures = featuresBias[shuffledIndices]\n",
        "    shuffledLabels = binaryLabels[shuffledIndices]\n",
        "    \n",
        "    for i in range(0,numFeatures,batch):\n",
        "      #Fetch random sample\n",
        "      randomFeatures = shuffledFeatures[i:i+batch]\n",
        "      randomLabels = shuffledLabels[i:i+batch]\n",
        "      predictions = randomFeatures.dot(weights)\n",
        "      gradient = randomFeatures.T.dot((sigmoid(predictions) - randomLabels) * sigmoidDerivative(predictions))\n",
        "      weights = weights - (learningRate * gradient) \n",
        "    weightsList.append(weights)\n",
        "  return weightsList\n"
      ],
      "execution_count": 0,
      "outputs": []
    },
    {
      "metadata": {
        "id": "tB6xa4GhIfTy",
        "colab_type": "code",
        "outputId": "50fc1d35-e8a1-44be-f0eb-086703fa4032",
        "colab": {
          "base_uri": "https://localhost:8080/",
          "height": 35
        }
      },
      "cell_type": "code",
      "source": [
        "#Creating 10 binary models\n",
        "from IPython.display import clear_output\n",
        "digitModels = []\n",
        "#Takes last model -- Could be improved to search for the best model\n",
        "for digit in np.arange(10):\n",
        "  clear_output()\n",
        "  print(digit*10,\"% Done\")\n",
        "  epochWeights = miniBatchSGDMeanSquared(x_train,y_train,epoch =300 , batch = 1000, model=digit)\n",
        "  digitModels.append(epochWeights[-1])\n",
        "clear_output()\n",
        "print('Done')"
      ],
      "execution_count": 6,
      "outputs": [
        {
          "output_type": "stream",
          "text": [
            "Done\n"
          ],
          "name": "stdout"
        }
      ]
    },
    {
      "metadata": {
        "id": "s0xsx734eC75",
        "colab_type": "code",
        "colab": {}
      },
      "cell_type": "code",
      "source": [
        "#Formatting feature data\n",
        "modelsMSE = np.array(digitModels)\n",
        "normXTestFlat = x_test.reshape(10000,784)/255\n",
        "normXTestFlatBiased = np.c_[np.ones((10000,1)),normXTestFlat]"
      ],
      "execution_count": 0,
      "outputs": []
    },
    {
      "metadata": {
        "id": "FVuDE4J4muYT",
        "colab_type": "code",
        "outputId": "6a4c41a3-1685-4a53-addc-8a1af0e3f55d",
        "colab": {
          "base_uri": "https://localhost:8080/",
          "height": 35
        }
      },
      "cell_type": "code",
      "source": [
        "#Testing 10 binary models\n",
        "counterMSE = 0\n",
        "correctMSE = 0\n",
        "\n",
        "for y in y_test:\n",
        "  predictionMSE = []\n",
        "  for i in np.arange(10):\n",
        "    predictionMSE.append(sigmoid(normXTestFlatBiased[counterMSE].dot(modelsMSE[i])))\n",
        "  predictionCE = np.argmax(predictionMSE)\n",
        "  if(predictionCE == y):\n",
        "    correctMSE += 1\n",
        "  counterMSE += 1\n",
        "\n",
        "print(correctMSE/10000,'% Accuracy')"
      ],
      "execution_count": 8,
      "outputs": [
        {
          "output_type": "stream",
          "text": [
            "0.752 % Accuracy\n"
          ],
          "name": "stdout"
        }
      ]
    },
    {
      "metadata": {
        "id": "JV8bekD9792S",
        "colab_type": "code",
        "colab": {}
      },
      "cell_type": "code",
      "source": [
        "###########\n",
        "#PROBLEM 2#\n",
        "###########\n",
        "\n",
        "def miniBatchSGDCrossEntropy(x_train,y_train,epoch=10,batch=5,model=0):\n",
        "  np.random.seed(20)\n",
        "  \n",
        "  numFeatures = int(x_train.size/784)\n",
        "  #Flaten to a 2D array\n",
        "  xFlat = (x_train.reshape(60000,784))\n",
        "  yTrain = (y_train.reshape(60000,1))\n",
        "  \n",
        "  #normalize and add bias to features\n",
        "  normFeatures = xFlat/255\n",
        "  featuresBias = np.c_[np.ones((60000,1)),normFeatures]\n",
        "  \n",
        "  weights = np.random.randn(785,1)#785 pixels per image(28^2) +1 for bias\n",
        "  weightsList = []\n",
        "  \n",
        "  #change labels to binary\n",
        "  binaryLabels = changeToBinary(yTrain,model)\n",
        "\n",
        "  for epoch in range(epoch):\n",
        "    #Taken from Linear Regression class notebook by Paul Wocjan\n",
        "    shuffledIndices = np.random.permutation(numFeatures)\n",
        "    shuffledFeatures = featuresBias[shuffledIndices]\n",
        "    shuffledLabels = binaryLabels[shuffledIndices]\n",
        "    \n",
        "    for i in range(0,numFeatures,batch):\n",
        "      #Fetch random sample\n",
        "      randomFeatures = shuffledFeatures[i:i+batch]\n",
        "      randomLabels = shuffledLabels[i:i+batch]\n",
        "      predictions = randomFeatures.dot(weights)\n",
        "      gradient = randomFeatures.T.dot((sigmoid(predictions) - randomLabels))\n",
        "      weights = weights - (learningRate * gradient) \n",
        "    weightsList.append(weights)\n",
        "  return weightsList"
      ],
      "execution_count": 0,
      "outputs": []
    },
    {
      "metadata": {
        "id": "yAyT5xLKib7Z",
        "colab_type": "code",
        "outputId": "17844c16-4564-4a35-df96-3062caed7380",
        "colab": {
          "base_uri": "https://localhost:8080/",
          "height": 35
        }
      },
      "cell_type": "code",
      "source": [
        "#Creating 10 binary models\n",
        "digitModelsCE = []\n",
        "#Takes last model -- Could be improved to search for the best model\n",
        "for digit in np.arange(10):\n",
        "  clear_output()\n",
        "  print(digit*10,\"% Done\")\n",
        "  epochWeights = miniBatchSGDCrossEntropy(x_train,y_train,epoch =300 , batch = 1000, model=digit)\n",
        "  digitModelsCE.append(epochWeights[-1])\n",
        "clear_output()\n",
        "print('Done')"
      ],
      "execution_count": 10,
      "outputs": [
        {
          "output_type": "stream",
          "text": [
            "Done\n"
          ],
          "name": "stdout"
        }
      ]
    },
    {
      "metadata": {
        "id": "oFe2D1C8lW0K",
        "colab_type": "code",
        "colab": {}
      },
      "cell_type": "code",
      "source": [
        "#Formatting feature data\n",
        "modelsCE = np.array(digitModelsCE)\n",
        "normXTestFlat = x_test.reshape(10000,784)/255\n",
        "normXTestFlatBiased = np.c_[np.ones((10000,1)),normXTestFlat]"
      ],
      "execution_count": 0,
      "outputs": []
    },
    {
      "metadata": {
        "id": "RzioYSLze7so",
        "colab_type": "code",
        "outputId": "89aa6a1e-5a8d-409e-b8f9-b515bd7ce482",
        "colab": {
          "base_uri": "https://localhost:8080/",
          "height": 35
        }
      },
      "cell_type": "code",
      "source": [
        "#Testing 10 binary models\n",
        "counterCE = 0\n",
        "correctCE = 0\n",
        "\n",
        "for y in y_test:\n",
        "  predictionCE = []\n",
        "  for i in np.arange(10):\n",
        "    predictionCE.append(sigmoid(normXTestFlatBiased[counterCE].dot(modelsCE[i])))\n",
        "  predictionCE = np.argmax(predictionCE)\n",
        "  if(predictionCE == y):\n",
        "    correctCE += 1\n",
        "  counterCE += 1\n",
        "\n",
        "print(correctCE/10000,'% Accuracy')"
      ],
      "execution_count": 12,
      "outputs": [
        {
          "output_type": "stream",
          "text": [
            "0.8835 % Accuracy\n"
          ],
          "name": "stdout"
        }
      ]
    },
    {
      "metadata": {
        "id": "LsLWdI9Whi46",
        "colab_type": "code",
        "colab": {}
      },
      "cell_type": "code",
      "source": [
        "###########\n",
        "#PROBLEM 3#\n",
        "###########\n",
        "\n",
        "#Vectorizes labels \n",
        "def scalarToVector(labels):\n",
        "  vectorizedLabels = []\n",
        "  for scalar in labels:\n",
        "    vector = np.zeros((10,1))\n",
        "    vector[scalar]=1\n",
        "    vectorizedLabels.append(vector)\n",
        "  return np.array(vectorizedLabels).reshape((len(labels),10))    \n",
        "                         "
      ],
      "execution_count": 0,
      "outputs": []
    },
    {
      "metadata": {
        "id": "SBInISy1Zkq6",
        "colab_type": "code",
        "colab": {}
      },
      "cell_type": "code",
      "source": [
        "def classifier(x_train, y_train, epoch = 50, batch = 50):\n",
        "  np.random.seed(20)\n",
        "  \n",
        "  numFeatures = int(x_train.size/784)\n",
        "  \n",
        "  #Flaten to a 2D array\n",
        "  xFlat = (x_train.reshape(60000,784))\n",
        "  \n",
        "  #Vectorize the lables\n",
        "  yTrain = scalarToVector(y_train)\n",
        "  \n",
        "  #normalize and add bias to features\n",
        "  normFeatures = xFlat/255\n",
        "  featuresBias = np.c_[np.ones((60000,1)),normFeatures]\n",
        "  weights = np.random.randn(785,10)#785 pixels per image(28^2) +1 for bias\n",
        "  weightsList = []\n",
        "\n",
        "  for epoch in range(epoch):\n",
        "    #Taken from Linear Regression class notebook by Paul Wocjan\n",
        "    shuffledIndices = np.random.permutation(numFeatures)\n",
        "    shuffledFeatures = featuresBias[shuffledIndices]\n",
        "    shuffledLabels = yTrain[shuffledIndices]\n",
        "    \n",
        "    for i in range(0,numFeatures,batch):\n",
        "      #Fetch random sample\n",
        "      randomFeatures = shuffledFeatures[i:i+batch]\n",
        "      randomLabels = shuffledLabels[i:i+batch]\n",
        "      predictions = randomFeatures.dot(weights)\n",
        "      gradient = randomFeatures.T.dot((sigmoid(predictions) - randomLabels))\n",
        "      weights = weights - (learningRate * gradient) \n",
        "    weightsList.append(weights)\n",
        "  return weightsList"
      ],
      "execution_count": 0,
      "outputs": []
    },
    {
      "metadata": {
        "id": "azqdqLmxkudW",
        "colab_type": "code",
        "colab": {}
      },
      "cell_type": "code",
      "source": [
        "#Train classifier\n",
        "classifierWeights = classifier(x_train,y_train)"
      ],
      "execution_count": 0,
      "outputs": []
    },
    {
      "metadata": {
        "id": "qvdV3b2p3YFH",
        "colab_type": "code",
        "colab": {}
      },
      "cell_type": "code",
      "source": [
        "#Flattening Features\n",
        "normXTestFlat = x_test.reshape(10000,784)/255\n",
        "normXTestFlatBiased = np.c_[np.ones((10000,1)),normXTestFlat]"
      ],
      "execution_count": 0,
      "outputs": []
    },
    {
      "metadata": {
        "id": "upWlOnSP-bSs",
        "colab_type": "code",
        "colab": {}
      },
      "cell_type": "code",
      "source": [
        "#Test Accuracy of classifier\n",
        "percentageList = []\n",
        "max = 0\n",
        "for weights in classifierWeights:\n",
        "  classifierCorrect = 0\n",
        "  for i in np.arange(10000):\n",
        "    prediction = normXTestFlatBiased[i].dot(weights)\n",
        "    if(np.argmax(softmax(prediction)) == y_test[i]):\n",
        "       classifierCorrect += 1\n",
        "  percent = classifierCorrect/10000\n",
        "  percentageList.append(percent)\n",
        "  if(percent > max): max = percent\n",
        "  "
      ],
      "execution_count": 0,
      "outputs": []
    },
    {
      "metadata": {
        "id": "pBiyIWdu8htp",
        "colab_type": "code",
        "outputId": "f18009d4-c859-4035-d104-88ff34f59665",
        "colab": {
          "base_uri": "https://localhost:8080/",
          "height": 411
        }
      },
      "cell_type": "code",
      "source": [
        "#charting percentages\n",
        "print('Max Percentage: ',max)\n",
        "print('Final Percentage: ',percentageList[-1])\n",
        "plt.bar(np.arange(len(classifierWeights)),percentageList)\n",
        "plt.xlabel('Epochs')\n",
        "plt.ylabel('Percentage')\n",
        "plt.title('Classifier')\n",
        "plt.show()"
      ],
      "execution_count": 18,
      "outputs": [
        {
          "output_type": "stream",
          "text": [
            "Max Percentage:  0.9191\n",
            "Final Percentage:  0.9167\n"
          ],
          "name": "stdout"
        },
        {
          "output_type": "display_data",
          "data": {
            "image/png": "[encoded data removed]",
            "text/plain": [
              "<Figure size 576x396 with 1 Axes>"
            ]
          },
          "metadata": {
            "tags": []
          }
        }
      ]
    },
    {
      "metadata": {
        "id": "9eM0a8X1_Ale",
        "colab_type": "code",
        "colab": {
          "base_uri": "https://localhost:8080/",
          "height": 90
        },
        "outputId": "580bc947-513a-4d61-cd09-8b15418d5ae3"
      },
      "cell_type": "code",
      "source": [
        "###########\n",
        "#PROBLEM 4#\n",
        "###########\n",
        "\n",
        "#Importing Keras\n",
        "from keras.models import Sequential\n",
        "from keras.layers import Dense\n",
        "\n",
        "#Creating Model\n",
        "kerasClassifier = Sequential()\n",
        "kerasClassifier.add(Dense(units = 784,activation = 'sigmoid', input_shape = (784,)))\n",
        "kerasClassifier.add(Dense(units = 10,activation = 'softmax'))\n",
        "\n"
      ],
      "execution_count": 19,
      "outputs": [
        {
          "output_type": "stream",
          "text": [
            "WARNING:tensorflow:From /usr/local/lib/python3.6/dist-packages/tensorflow/python/framework/op_def_library.py:263: colocate_with (from tensorflow.python.framework.ops) is deprecated and will be removed in a future version.\n",
            "Instructions for updating:\n",
            "Colocations handled automatically by placer.\n"
          ],
          "name": "stdout"
        }
      ]
    },
    {
      "metadata": {
        "id": "n1TYi4R0LV1z",
        "colab_type": "code",
        "colab": {}
      },
      "cell_type": "code",
      "source": [
        "#Specifying parameters for the model\n",
        "kerasClassifier.compile(loss=\"categorical_crossentropy\",\n",
        "                       optimizer=\"sgd\",\n",
        "                       metrics =['accuracy'])"
      ],
      "execution_count": 0,
      "outputs": []
    },
    {
      "metadata": {
        "id": "vSL3sNcMLX_x",
        "colab_type": "code",
        "colab": {}
      },
      "cell_type": "code",
      "source": [
        "#Shaping data\n",
        "xTrain = x_train.reshape(60000,784)\n",
        "yTrain = scalarToVector(y_train)"
      ],
      "execution_count": 0,
      "outputs": []
    },
    {
      "metadata": {
        "id": "SJIe7mSxYJS5",
        "colab_type": "code",
        "colab": {
          "base_uri": "https://localhost:8080/",
          "height": 3627
        },
        "outputId": "29e4ab17-a746-400d-d123-c15a0c3fc22a"
      },
      "cell_type": "code",
      "source": [
        "#Fitting model to data\n",
        "kerasClassifier.fit(xTrain,yTrain,epochs=100,batch_size=1000)"
      ],
      "execution_count": 22,
      "outputs": [
        {
          "output_type": "stream",
          "text": [
            "WARNING:tensorflow:From /usr/local/lib/python3.6/dist-packages/tensorflow/python/ops/math_ops.py:3066: to_int32 (from tensorflow.python.ops.math_ops) is deprecated and will be removed in a future version.\n",
            "Instructions for updating:\n",
            "Use tf.cast instead.\n",
            "Epoch 1/100\n",
            "60000/60000 [==============================] - 4s 63us/step - loss: 1.4169 - acc: 0.5974\n",
            "Epoch 2/100\n",
            "60000/60000 [==============================] - 3s 54us/step - loss: 0.7527 - acc: 0.8266\n",
            "Epoch 3/100\n",
            "60000/60000 [==============================] - 3s 49us/step - loss: 0.5801 - acc: 0.8631\n",
            "Epoch 4/100\n",
            "60000/60000 [==============================] - 3s 42us/step - loss: 0.4956 - acc: 0.8805\n",
            "Epoch 5/100\n",
            "60000/60000 [==============================] - 3s 42us/step - loss: 0.4435 - acc: 0.8922\n",
            "Epoch 6/100\n",
            "60000/60000 [==============================] - 3s 42us/step - loss: 0.4071 - acc: 0.8999\n",
            "Epoch 7/100\n",
            "60000/60000 [==============================] - 3s 42us/step - loss: 0.3798 - acc: 0.9058\n",
            "Epoch 8/100\n",
            "60000/60000 [==============================] - 3s 42us/step - loss: 0.3582 - acc: 0.9110\n",
            "Epoch 9/100\n",
            "60000/60000 [==============================] - 3s 42us/step - loss: 0.3405 - acc: 0.9154\n",
            "Epoch 10/100\n",
            "60000/60000 [==============================] - 3s 43us/step - loss: 0.3256 - acc: 0.9186\n",
            "Epoch 11/100\n",
            "60000/60000 [==============================] - 3s 43us/step - loss: 0.3128 - acc: 0.9216\n",
            "Epoch 12/100\n",
            "60000/60000 [==============================] - 3s 42us/step - loss: 0.3016 - acc: 0.9241\n",
            "Epoch 13/100\n",
            "60000/60000 [==============================] - 3s 42us/step - loss: 0.2916 - acc: 0.9267\n",
            "Epoch 14/100\n",
            "60000/60000 [==============================] - 3s 42us/step - loss: 0.2827 - acc: 0.9286\n",
            "Epoch 15/100\n",
            "60000/60000 [==============================] - 3s 42us/step - loss: 0.2747 - acc: 0.9307\n",
            "Epoch 16/100\n",
            "60000/60000 [==============================] - 3s 42us/step - loss: 0.2673 - acc: 0.9321\n",
            "Epoch 17/100\n",
            "60000/60000 [==============================] - 2s 42us/step - loss: 0.2606 - acc: 0.9340\n",
            "Epoch 18/100\n",
            "60000/60000 [==============================] - 2s 42us/step - loss: 0.2545 - acc: 0.9356\n",
            "Epoch 19/100\n",
            "60000/60000 [==============================] - 3s 48us/step - loss: 0.2487 - acc: 0.9366\n",
            "Epoch 20/100\n",
            "60000/60000 [==============================] - 3s 54us/step - loss: 0.2434 - acc: 0.9384\n",
            "Epoch 21/100\n",
            "60000/60000 [==============================] - 3s 54us/step - loss: 0.2383 - acc: 0.9398\n",
            "Epoch 22/100\n",
            "60000/60000 [==============================] - 3s 49us/step - loss: 0.2336 - acc: 0.9409\n",
            "Epoch 23/100\n",
            "60000/60000 [==============================] - 2s 41us/step - loss: 0.2292 - acc: 0.9419\n",
            "Epoch 24/100\n",
            "60000/60000 [==============================] - 3s 42us/step - loss: 0.2250 - acc: 0.9430\n",
            "Epoch 25/100\n",
            "60000/60000 [==============================] - 3s 42us/step - loss: 0.2210 - acc: 0.9439\n",
            "Epoch 26/100\n",
            "60000/60000 [==============================] - 2s 42us/step - loss: 0.2172 - acc: 0.9451\n",
            "Epoch 27/100\n",
            "60000/60000 [==============================] - 2s 41us/step - loss: 0.2136 - acc: 0.9463\n",
            "Epoch 28/100\n",
            "60000/60000 [==============================] - 3s 42us/step - loss: 0.2102 - acc: 0.9470\n",
            "Epoch 29/100\n",
            "60000/60000 [==============================] - 2s 41us/step - loss: 0.2069 - acc: 0.9485\n",
            "Epoch 30/100\n",
            "60000/60000 [==============================] - 2s 41us/step - loss: 0.2038 - acc: 0.9491\n",
            "Epoch 31/100\n",
            "60000/60000 [==============================] - 2s 42us/step - loss: 0.2008 - acc: 0.9497\n",
            "Epoch 32/100\n",
            "60000/60000 [==============================] - 2s 42us/step - loss: 0.1979 - acc: 0.9504\n",
            "Epoch 33/100\n",
            "60000/60000 [==============================] - 3s 43us/step - loss: 0.1951 - acc: 0.9514\n",
            "Epoch 34/100\n",
            "60000/60000 [==============================] - 3s 42us/step - loss: 0.1924 - acc: 0.9526\n",
            "Epoch 35/100\n",
            "60000/60000 [==============================] - 3s 42us/step - loss: 0.1898 - acc: 0.9531\n",
            "Epoch 36/100\n",
            "60000/60000 [==============================] - 3s 42us/step - loss: 0.1874 - acc: 0.9537\n",
            "Epoch 37/100\n",
            "60000/60000 [==============================] - 3s 42us/step - loss: 0.1850 - acc: 0.9546\n",
            "Epoch 38/100\n",
            "60000/60000 [==============================] - 3s 53us/step - loss: 0.1828 - acc: 0.9549\n",
            "Epoch 39/100\n",
            "60000/60000 [==============================] - 3s 54us/step - loss: 0.1805 - acc: 0.9556\n",
            "Epoch 40/100\n",
            "60000/60000 [==============================] - 3s 54us/step - loss: 0.1783 - acc: 0.9564\n",
            "Epoch 41/100\n",
            "60000/60000 [==============================] - 3s 49us/step - loss: 0.1762 - acc: 0.9567\n",
            "Epoch 42/100\n",
            "60000/60000 [==============================] - 3s 42us/step - loss: 0.1742 - acc: 0.9571\n",
            "Epoch 43/100\n",
            "60000/60000 [==============================] - 3s 42us/step - loss: 0.1721 - acc: 0.9575\n",
            "Epoch 44/100\n",
            "60000/60000 [==============================] - 3s 42us/step - loss: 0.1702 - acc: 0.9583\n",
            "Epoch 45/100\n",
            "60000/60000 [==============================] - 2s 42us/step - loss: 0.1684 - acc: 0.9589\n",
            "Epoch 46/100\n",
            "60000/60000 [==============================] - 3s 42us/step - loss: 0.1666 - acc: 0.9593\n",
            "Epoch 47/100\n",
            "60000/60000 [==============================] - 3s 42us/step - loss: 0.1648 - acc: 0.9597\n",
            "Epoch 48/100\n",
            "60000/60000 [==============================] - 3s 43us/step - loss: 0.1630 - acc: 0.9600\n",
            "Epoch 49/100\n",
            "60000/60000 [==============================] - 3s 42us/step - loss: 0.1614 - acc: 0.9605\n",
            "Epoch 50/100\n",
            "60000/60000 [==============================] - 2s 42us/step - loss: 0.1598 - acc: 0.9612\n",
            "Epoch 51/100\n",
            "60000/60000 [==============================] - 2s 42us/step - loss: 0.1582 - acc: 0.9615\n",
            "Epoch 52/100\n",
            "60000/60000 [==============================] - 3s 45us/step - loss: 0.1567 - acc: 0.9619\n",
            "Epoch 53/100\n",
            "60000/60000 [==============================] - 3s 42us/step - loss: 0.1552 - acc: 0.9626\n",
            "Epoch 54/100\n",
            "60000/60000 [==============================] - 3s 42us/step - loss: 0.1537 - acc: 0.9629\n",
            "Epoch 55/100\n",
            "60000/60000 [==============================] - 3s 42us/step - loss: 0.1523 - acc: 0.9635\n",
            "Epoch 56/100\n",
            "60000/60000 [==============================] - 3s 42us/step - loss: 0.1509 - acc: 0.9636\n",
            "Epoch 57/100\n",
            "60000/60000 [==============================] - 3s 47us/step - loss: 0.1495 - acc: 0.9640\n",
            "Epoch 58/100\n",
            "60000/60000 [==============================] - 3s 54us/step - loss: 0.1482 - acc: 0.9644\n",
            "Epoch 59/100\n",
            "60000/60000 [==============================] - 3s 54us/step - loss: 0.1469 - acc: 0.9649\n",
            "Epoch 60/100\n",
            "60000/60000 [==============================] - 3s 55us/step - loss: 0.1456 - acc: 0.9651\n",
            "Epoch 61/100\n",
            "60000/60000 [==============================] - 3s 55us/step - loss: 0.1443 - acc: 0.9654\n",
            "Epoch 62/100\n",
            "60000/60000 [==============================] - 3s 47us/step - loss: 0.1431 - acc: 0.9659\n",
            "Epoch 63/100\n",
            "60000/60000 [==============================] - 2s 42us/step - loss: 0.1418 - acc: 0.9664\n",
            "Epoch 64/100\n",
            "60000/60000 [==============================] - 3s 42us/step - loss: 0.1406 - acc: 0.9664\n",
            "Epoch 65/100\n",
            "60000/60000 [==============================] - 3s 42us/step - loss: 0.1395 - acc: 0.9668\n",
            "Epoch 66/100\n",
            "60000/60000 [==============================] - 2s 41us/step - loss: 0.1384 - acc: 0.9671\n",
            "Epoch 67/100\n",
            "60000/60000 [==============================] - 2s 41us/step - loss: 0.1373 - acc: 0.9676\n",
            "Epoch 68/100\n",
            "60000/60000 [==============================] - 2s 41us/step - loss: 0.1361 - acc: 0.9680\n",
            "Epoch 69/100\n",
            "60000/60000 [==============================] - 3s 42us/step - loss: 0.1351 - acc: 0.9684\n",
            "Epoch 70/100\n",
            "60000/60000 [==============================] - 3s 42us/step - loss: 0.1340 - acc: 0.9688\n",
            "Epoch 71/100\n",
            "60000/60000 [==============================] - 2s 41us/step - loss: 0.1330 - acc: 0.9690\n",
            "Epoch 72/100\n",
            "60000/60000 [==============================] - 2s 42us/step - loss: 0.1320 - acc: 0.9695\n",
            "Epoch 73/100\n",
            "60000/60000 [==============================] - 2s 41us/step - loss: 0.1310 - acc: 0.9697\n",
            "Epoch 74/100\n",
            "60000/60000 [==============================] - 2s 41us/step - loss: 0.1300 - acc: 0.9700\n",
            "Epoch 75/100\n",
            "60000/60000 [==============================] - 3s 42us/step - loss: 0.1291 - acc: 0.9703\n",
            "Epoch 76/100\n",
            "60000/60000 [==============================] - 3s 51us/step - loss: 0.1281 - acc: 0.9706\n",
            "Epoch 77/100\n",
            "60000/60000 [==============================] - 3s 54us/step - loss: 0.1272 - acc: 0.9707\n",
            "Epoch 78/100\n",
            "60000/60000 [==============================] - 3s 54us/step - loss: 0.1263 - acc: 0.9711\n",
            "Epoch 79/100\n",
            "60000/60000 [==============================] - 3s 47us/step - loss: 0.1254 - acc: 0.9714\n",
            "Epoch 80/100\n",
            "60000/60000 [==============================] - 3s 42us/step - loss: 0.1245 - acc: 0.9718\n",
            "Epoch 81/100\n",
            "60000/60000 [==============================] - 3s 42us/step - loss: 0.1237 - acc: 0.9719\n",
            "Epoch 82/100\n",
            "60000/60000 [==============================] - 3s 42us/step - loss: 0.1228 - acc: 0.9721\n",
            "Epoch 83/100\n",
            "60000/60000 [==============================] - 2s 42us/step - loss: 0.1220 - acc: 0.9725\n",
            "Epoch 84/100\n",
            "60000/60000 [==============================] - 2s 41us/step - loss: 0.1211 - acc: 0.9729\n",
            "Epoch 85/100\n",
            "60000/60000 [==============================] - 2s 41us/step - loss: 0.1203 - acc: 0.9730\n",
            "Epoch 86/100\n",
            "60000/60000 [==============================] - 2s 42us/step - loss: 0.1195 - acc: 0.9732\n",
            "Epoch 87/100\n",
            "60000/60000 [==============================] - 3s 42us/step - loss: 0.1187 - acc: 0.9734\n",
            "Epoch 88/100\n",
            "60000/60000 [==============================] - 2s 41us/step - loss: 0.1180 - acc: 0.9738\n",
            "Epoch 89/100\n",
            "60000/60000 [==============================] - 2s 41us/step - loss: 0.1172 - acc: 0.9740\n",
            "Epoch 90/100\n",
            "60000/60000 [==============================] - 2s 41us/step - loss: 0.1165 - acc: 0.9741\n",
            "Epoch 91/100\n",
            "60000/60000 [==============================] - 3s 42us/step - loss: 0.1157 - acc: 0.9743\n",
            "Epoch 92/100\n",
            "60000/60000 [==============================] - 3s 42us/step - loss: 0.1150 - acc: 0.9745\n",
            "Epoch 93/100\n",
            "60000/60000 [==============================] - 2s 41us/step - loss: 0.1142 - acc: 0.9745\n",
            "Epoch 94/100\n",
            "60000/60000 [==============================] - 3s 42us/step - loss: 0.1135 - acc: 0.9748\n",
            "Epoch 95/100\n",
            "60000/60000 [==============================] - 3s 48us/step - loss: 0.1128 - acc: 0.9749\n",
            "Epoch 96/100\n",
            "60000/60000 [==============================] - 3s 54us/step - loss: 0.1121 - acc: 0.9752\n",
            "Epoch 97/100\n",
            "60000/60000 [==============================] - 3s 54us/step - loss: 0.1114 - acc: 0.9754\n",
            "Epoch 98/100\n",
            "60000/60000 [==============================] - 3s 48us/step - loss: 0.1107 - acc: 0.9756\n",
            "Epoch 99/100\n",
            "60000/60000 [==============================] - 3s 42us/step - loss: 0.1101 - acc: 0.9758\n",
            "Epoch 100/100\n",
            "60000/60000 [==============================] - 3s 42us/step - loss: 0.1094 - acc: 0.9760\n"
          ],
          "name": "stdout"
        },
        {
          "output_type": "execute_result",
          "data": {
            "text/plain": [
              "<keras.callbacks.History at 0x7fa1af457ac8>"
            ]
          },
          "metadata": {
            "tags": []
          },
          "execution_count": 22
        }
      ]
    },
    {
      "metadata": {
        "id": "50iE09jWY2-5",
        "colab_type": "code",
        "colab": {}
      },
      "cell_type": "code",
      "source": [
        "#Shaping test data\n",
        "xTest = x_test.reshape(10000,784)\n",
        "yTest = scalarToVector(y_test)"
      ],
      "execution_count": 0,
      "outputs": []
    },
    {
      "metadata": {
        "id": "ELTM_MBuYUMG",
        "colab_type": "code",
        "colab": {
          "base_uri": "https://localhost:8080/",
          "height": 52
        },
        "outputId": "c4482186-b8c3-4340-e8e4-81c91d7628e6"
      },
      "cell_type": "code",
      "source": [
        "#Evaluating classifier\n",
        "loss,acc = kerasClassifier.evaluate(xTest,yTest)\n",
        "print(acc*100,'% Accuracy')"
      ],
      "execution_count": 24,
      "outputs": [
        {
          "output_type": "stream",
          "text": [
            "10000/10000 [==============================] - 1s 55us/step\n",
            "94.0 % Accuracy\n"
          ],
          "name": "stdout"
        }
      ]
    },
    {
      "metadata": {
        "id": "t_L5MS70O_ui",
        "colab_type": "code",
        "colab": {}
      },
      "cell_type": "code",
      "source": [
        "###########\n",
        "#PROBLEM 5#\n",
        "###########\n",
        "\n",
        "#Divides pixels into black or white\n",
        "def blackOrWhite(pixel):\n",
        "  if(pixel>127):\n",
        "    newPixel = 1\n",
        "  else:\n",
        "    newPixel = 0 \n",
        "  return newPixel\n",
        "\n",
        "#Finds the next white pixel\n",
        "def findWhitePixel(image):\n",
        "  rowCount,colCount = image.shape\n",
        "  rowCount = np.arange(rowCount)\n",
        "  colCount = np.arange(colCount)\n",
        "  for i in rowCount:\n",
        "    for j in colCount:\n",
        "      if(image[i][j] == 0):return (i,j)\n",
        "  return (-1,-1)\n",
        "\n",
        "#checks the bounds on an image\n",
        "def boundCheck(x,y,size):\n",
        "  if(x<0 or x>=size):\n",
        "    return False\n",
        "  if(y<0 or y>=size):\n",
        "    return False\n",
        "  return True\n",
        "\n",
        "#does the recursive floodfill\n",
        "def helper(image,x,y):\n",
        "  size=28\n",
        "  image[x][y] = 1\n",
        "  if(boundCheck(x+1,y,size) and image[x+1][y]==0):\n",
        "    image = helper(image,x+1,y)\n",
        "  if(boundCheck(x,y+1,size) and image[x][y+1]==0):\n",
        "    image = helper(image,x,y+1)\n",
        "  if(boundCheck(x-1,y,size) and image[x-1][y]==0):\n",
        "    image = helper(image,x-1,y)\n",
        "  if(boundCheck(x,y-1,size) and image[x][y-1]==0):\n",
        "    image = helper(image,x,y-1)\n",
        "  return image\n",
        "\n",
        "#main body of floodfill\n",
        "def floodFill(image):\n",
        "  x,y = findWhitePixel(image)\n",
        "  if(x==-1):\n",
        "    return 0\n",
        "  else:\n",
        "    image = helper(image,x,y)\n",
        "    return 1 + floodFill(image)\n",
        "\n",
        "#Gets number of white areas in set of images for each image\n",
        "def numberOfWhiteAreas(images):\n",
        "  numWhiteSpaces = []\n",
        "  numImages = int(images.size/784)\n",
        "  for i in np.arange(numImages):\n",
        "    if(i%1000 == 0):\n",
        "      clear_output()\n",
        "      print(i/numImages*100,'% Done')\n",
        "    numWhiteSpaces.append(floodFill(images[i]))\n",
        "  clear_output()\n",
        "  print('Done')  \n",
        "  return np.array(numWhiteSpaces)\n",
        "\n",
        "#Checks averages of rows to see if there is a pixel\n",
        "def getDimensions(image):\n",
        "  tImage = image.T\n",
        "  iMin = -1\n",
        "  tMin = -1\n",
        "  iMax = -1\n",
        "  tMax = -1\n",
        "  for i in np.arange(28):\n",
        "    #Check for height\n",
        "    if(iMin==-1):\n",
        "      if(np.mean(image[i])!=0):\n",
        "        iMin=i\n",
        "    elif(iMax==-1):\n",
        "      if(np.mean(image[i])==0):\n",
        "        iMax=i\n",
        "    #Check for width\n",
        "    if(tMin==-1):\n",
        "      if(np.mean(tImage[i])!=0):\n",
        "        tMin=i\n",
        "    elif(tMax==-1):\n",
        "      if(np.mean(tImage[i])==0):\n",
        "        tMax=i\n",
        "  return (iMax-iMin,tMax-tMin)  \n",
        "\n",
        "#Gets height and width for an image\n",
        "def dimensionsOfDigit(images):\n",
        "  widths = []\n",
        "  heights = []\n",
        "  numImages = int(images.size/784)\n",
        "  for i in np.arange(numImages):\n",
        "    if(i%1000 == 0):\n",
        "      clear_output()\n",
        "      print(i/numImages*100,'% Done')\n",
        "    height,width = getDimensions(images[i])\n",
        "    heights.append(height)\n",
        "    widths.append(width)\n",
        "  clear_output()\n",
        "  print(\"Done\")\n",
        "  return np.array(heights),np.array(widths)\n",
        "      "
      ],
      "execution_count": 0,
      "outputs": []
    },
    {
      "metadata": {
        "id": "44op1Y2uc0Ao",
        "colab_type": "code",
        "colab": {}
      },
      "cell_type": "code",
      "source": [
        "#Creating Black and White Images\n",
        "vectorBW = np.vectorize(blackOrWhite)\n",
        "bWImages = vectorBW(x_train)"
      ],
      "execution_count": 0,
      "outputs": []
    },
    {
      "metadata": {
        "id": "f_DTaJkXy2e7",
        "colab_type": "code",
        "outputId": "7d11f44d-9ec3-4aee-ccdc-e7595b2f4cdd",
        "colab": {
          "base_uri": "https://localhost:8080/",
          "height": 35
        }
      },
      "cell_type": "code",
      "source": [
        "#Finding number of white areas in each image\n",
        "tempImages = np.copy(bWImages)\n",
        "areasTrain = numberOfWhiteAreas(tempImages)\n"
      ],
      "execution_count": 27,
      "outputs": [
        {
          "output_type": "stream",
          "text": [
            "Done\n"
          ],
          "name": "stdout"
        }
      ]
    },
    {
      "metadata": {
        "id": "q_yQWLKGYTkI",
        "colab_type": "code",
        "colab": {
          "base_uri": "https://localhost:8080/",
          "height": 35
        },
        "outputId": "44c29758-6c69-4341-9b3b-01fa1ef615c1"
      },
      "cell_type": "code",
      "source": [
        "#Finding height and width of Images\n",
        "tempImages = np.copy(bWImages)\n",
        "height,width = dimensionsOfDigit(tempImages)"
      ],
      "execution_count": 28,
      "outputs": [
        {
          "output_type": "stream",
          "text": [
            "Done\n"
          ],
          "name": "stdout"
        }
      ]
    },
    {
      "metadata": {
        "id": "AEk0Q8XT4Lsp",
        "colab_type": "code",
        "colab": {}
      },
      "cell_type": "code",
      "source": [
        "#Reshaping\n",
        "areasTrain = areasTrain.reshape(60000,1)\n",
        "xTrain = x_train.reshape(60000,784)\n",
        "yTrain = scalarToVector(y_train)\n",
        "#Normalizing \n",
        "areasTrainNorm = areasTrain/3\n",
        "height = height/28\n",
        "width = width/28\n",
        "#Concatinating data for classifier\n",
        "xTrainWithAreas = np.c_[height,width,areasTrainNorm,xTrain]"
      ],
      "execution_count": 0,
      "outputs": []
    },
    {
      "metadata": {
        "id": "g06x3rXn8qa8",
        "colab_type": "code",
        "outputId": "2a118b1d-de3c-4b53-bf92-005bb04d23cb",
        "colab": {
          "base_uri": "https://localhost:8080/",
          "height": 3555
        }
      },
      "cell_type": "code",
      "source": [
        "# Recreating the Classifier with areas,height and width\n",
        "kerasClassifierWithAreas = Sequential()\n",
        "\n",
        "kerasClassifierWithAreas.add(Dense(units = 785,activation = 'sigmoid', input_shape = (787,)))\n",
        "kerasClassifierWithAreas.add(Dense(units = 10,activation = 'softmax'))\n",
        "kerasClassifierWithAreas.compile(loss=\"categorical_crossentropy\",\n",
        "                       optimizer=\"sgd\",\n",
        "                       metrics =['accuracy'])\n",
        "\n",
        "kerasClassifierWithAreas.fit(xTrainWithAreas,yTrain,epochs=100,batch_size=1000)"
      ],
      "execution_count": 30,
      "outputs": [
        {
          "output_type": "stream",
          "text": [
            "Epoch 1/100\n",
            "60000/60000 [==============================] - 4s 59us/step - loss: 1.3940 - acc: 0.6141\n",
            "Epoch 2/100\n",
            "60000/60000 [==============================] - 3s 47us/step - loss: 0.7293 - acc: 0.8348\n",
            "Epoch 3/100\n",
            "60000/60000 [==============================] - 3s 48us/step - loss: 0.5672 - acc: 0.8674\n",
            "Epoch 4/100\n",
            "60000/60000 [==============================] - 3s 47us/step - loss: 0.4869 - acc: 0.8827\n",
            "Epoch 5/100\n",
            "60000/60000 [==============================] - 3s 47us/step - loss: 0.4371 - acc: 0.8934\n",
            "Epoch 6/100\n",
            "60000/60000 [==============================] - 3s 47us/step - loss: 0.4021 - acc: 0.8995\n",
            "Epoch 7/100\n",
            "60000/60000 [==============================] - 3s 48us/step - loss: 0.3757 - acc: 0.9055\n",
            "Epoch 8/100\n",
            "60000/60000 [==============================] - 3s 47us/step - loss: 0.3544 - acc: 0.9104\n",
            "Epoch 9/100\n",
            "60000/60000 [==============================] - 3s 47us/step - loss: 0.3369 - acc: 0.9140\n",
            "Epoch 10/100\n",
            "60000/60000 [==============================] - 3s 47us/step - loss: 0.3222 - acc: 0.9178\n",
            "Epoch 11/100\n",
            "60000/60000 [==============================] - 3s 47us/step - loss: 0.3097 - acc: 0.9212\n",
            "Epoch 12/100\n",
            "60000/60000 [==============================] - 3s 47us/step - loss: 0.2985 - acc: 0.9247\n",
            "Epoch 13/100\n",
            "60000/60000 [==============================] - 3s 47us/step - loss: 0.2885 - acc: 0.9264\n",
            "Epoch 14/100\n",
            "60000/60000 [==============================] - 3s 47us/step - loss: 0.2797 - acc: 0.9284\n",
            "Epoch 15/100\n",
            "60000/60000 [==============================] - 3s 50us/step - loss: 0.2717 - acc: 0.9308\n",
            "Epoch 16/100\n",
            "60000/60000 [==============================] - 4s 59us/step - loss: 0.2644 - acc: 0.9323\n",
            "Epoch 17/100\n",
            "60000/60000 [==============================] - 4s 59us/step - loss: 0.2579 - acc: 0.9340\n",
            "Epoch 18/100\n",
            "60000/60000 [==============================] - 4s 59us/step - loss: 0.2517 - acc: 0.9353\n",
            "Epoch 19/100\n",
            "60000/60000 [==============================] - 4s 60us/step - loss: 0.2461 - acc: 0.9370\n",
            "Epoch 20/100\n",
            "60000/60000 [==============================] - 3s 51us/step - loss: 0.2409 - acc: 0.9385\n",
            "Epoch 21/100\n",
            "60000/60000 [==============================] - 3s 47us/step - loss: 0.2359 - acc: 0.9398\n",
            "Epoch 22/100\n",
            "60000/60000 [==============================] - 3s 47us/step - loss: 0.2313 - acc: 0.9409\n",
            "Epoch 23/100\n",
            "60000/60000 [==============================] - 3s 47us/step - loss: 0.2270 - acc: 0.9424\n",
            "Epoch 24/100\n",
            "60000/60000 [==============================] - 3s 47us/step - loss: 0.2229 - acc: 0.9432\n",
            "Epoch 25/100\n",
            "60000/60000 [==============================] - 3s 47us/step - loss: 0.2191 - acc: 0.9445\n",
            "Epoch 26/100\n",
            "60000/60000 [==============================] - 3s 47us/step - loss: 0.2154 - acc: 0.9455\n",
            "Epoch 27/100\n",
            "60000/60000 [==============================] - 3s 48us/step - loss: 0.2119 - acc: 0.9462\n",
            "Epoch 28/100\n",
            "60000/60000 [==============================] - 3s 48us/step - loss: 0.2086 - acc: 0.9469\n",
            "Epoch 29/100\n",
            "60000/60000 [==============================] - 3s 49us/step - loss: 0.2055 - acc: 0.9476\n",
            "Epoch 30/100\n",
            "60000/60000 [==============================] - 3s 48us/step - loss: 0.2024 - acc: 0.9486\n",
            "Epoch 31/100\n",
            "60000/60000 [==============================] - 3s 47us/step - loss: 0.1995 - acc: 0.9490\n",
            "Epoch 32/100\n",
            "60000/60000 [==============================] - 3s 52us/step - loss: 0.1967 - acc: 0.9500\n",
            "Epoch 33/100\n",
            "60000/60000 [==============================] - 4s 60us/step - loss: 0.1941 - acc: 0.9507\n",
            "Epoch 34/100\n",
            "60000/60000 [==============================] - 4s 60us/step - loss: 0.1915 - acc: 0.9513\n",
            "Epoch 35/100\n",
            "60000/60000 [==============================] - 3s 53us/step - loss: 0.1889 - acc: 0.9520\n",
            "Epoch 36/100\n",
            "60000/60000 [==============================] - 3s 49us/step - loss: 0.1866 - acc: 0.9527\n",
            "Epoch 37/100\n",
            "60000/60000 [==============================] - 3s 47us/step - loss: 0.1842 - acc: 0.9537\n",
            "Epoch 38/100\n",
            "60000/60000 [==============================] - 3s 47us/step - loss: 0.1820 - acc: 0.9545\n",
            "Epoch 39/100\n",
            "60000/60000 [==============================] - 3s 47us/step - loss: 0.1799 - acc: 0.9549\n",
            "Epoch 40/100\n",
            "60000/60000 [==============================] - 3s 47us/step - loss: 0.1778 - acc: 0.9557\n",
            "Epoch 41/100\n",
            "60000/60000 [==============================] - 3s 47us/step - loss: 0.1757 - acc: 0.9561\n",
            "Epoch 42/100\n",
            "60000/60000 [==============================] - 3s 47us/step - loss: 0.1738 - acc: 0.9572\n",
            "Epoch 43/100\n",
            "60000/60000 [==============================] - 3s 47us/step - loss: 0.1719 - acc: 0.9575\n",
            "Epoch 44/100\n",
            "60000/60000 [==============================] - 3s 47us/step - loss: 0.1700 - acc: 0.9581\n",
            "Epoch 45/100\n",
            "60000/60000 [==============================] - 3s 57us/step - loss: 0.1682 - acc: 0.9587\n",
            "Epoch 46/100\n",
            "60000/60000 [==============================] - 4s 60us/step - loss: 0.1665 - acc: 0.9592\n",
            "Epoch 47/100\n",
            "60000/60000 [==============================] - 4s 60us/step - loss: 0.1648 - acc: 0.9596\n",
            "Epoch 48/100\n",
            "60000/60000 [==============================] - 3s 55us/step - loss: 0.1631 - acc: 0.9601\n",
            "Epoch 49/100\n",
            "60000/60000 [==============================] - 4s 59us/step - loss: 0.1615 - acc: 0.9604\n",
            "Epoch 50/100\n",
            "60000/60000 [==============================] - 4s 60us/step - loss: 0.1599 - acc: 0.9612\n",
            "Epoch 51/100\n",
            "60000/60000 [==============================] - 3s 55us/step - loss: 0.1584 - acc: 0.9614\n",
            "Epoch 52/100\n",
            "60000/60000 [==============================] - 3s 47us/step - loss: 0.1568 - acc: 0.9618\n",
            "Epoch 53/100\n",
            "60000/60000 [==============================] - 3s 47us/step - loss: 0.1554 - acc: 0.9625\n",
            "Epoch 54/100\n",
            "60000/60000 [==============================] - 3s 47us/step - loss: 0.1539 - acc: 0.9629\n",
            "Epoch 55/100\n",
            "60000/60000 [==============================] - 3s 47us/step - loss: 0.1525 - acc: 0.9629\n",
            "Epoch 56/100\n",
            "60000/60000 [==============================] - 3s 47us/step - loss: 0.1512 - acc: 0.9636\n",
            "Epoch 57/100\n",
            "60000/60000 [==============================] - 3s 46us/step - loss: 0.1499 - acc: 0.9640\n",
            "Epoch 58/100\n",
            "60000/60000 [==============================] - 3s 47us/step - loss: 0.1485 - acc: 0.9642\n",
            "Epoch 59/100\n",
            "60000/60000 [==============================] - 3s 47us/step - loss: 0.1473 - acc: 0.9647\n",
            "Epoch 60/100\n",
            "60000/60000 [==============================] - 3s 47us/step - loss: 0.1460 - acc: 0.9651\n",
            "Epoch 61/100\n",
            "60000/60000 [==============================] - 3s 46us/step - loss: 0.1448 - acc: 0.9654\n",
            "Epoch 62/100\n",
            "60000/60000 [==============================] - 3s 46us/step - loss: 0.1436 - acc: 0.9657\n",
            "Epoch 63/100\n",
            "60000/60000 [==============================] - 3s 47us/step - loss: 0.1424 - acc: 0.9660\n",
            "Epoch 64/100\n",
            "60000/60000 [==============================] - 3s 46us/step - loss: 0.1412 - acc: 0.9664\n",
            "Epoch 65/100\n",
            "60000/60000 [==============================] - 3s 46us/step - loss: 0.1401 - acc: 0.9668\n",
            "Epoch 66/100\n",
            "60000/60000 [==============================] - 4s 59us/step - loss: 0.1390 - acc: 0.9670\n",
            "Epoch 67/100\n",
            "60000/60000 [==============================] - 4s 59us/step - loss: 0.1379 - acc: 0.9673\n",
            "Epoch 68/100\n",
            "60000/60000 [==============================] - 3s 57us/step - loss: 0.1368 - acc: 0.9676\n",
            "Epoch 69/100\n",
            "60000/60000 [==============================] - 3s 46us/step - loss: 0.1358 - acc: 0.9679\n",
            "Epoch 70/100\n",
            "60000/60000 [==============================] - 3s 46us/step - loss: 0.1348 - acc: 0.9680\n",
            "Epoch 71/100\n",
            "60000/60000 [==============================] - 3s 46us/step - loss: 0.1337 - acc: 0.9687\n",
            "Epoch 72/100\n",
            "60000/60000 [==============================] - 3s 46us/step - loss: 0.1327 - acc: 0.9688\n",
            "Epoch 73/100\n",
            "60000/60000 [==============================] - 3s 47us/step - loss: 0.1318 - acc: 0.9692\n",
            "Epoch 74/100\n",
            "60000/60000 [==============================] - 3s 46us/step - loss: 0.1308 - acc: 0.9695\n",
            "Epoch 75/100\n",
            "60000/60000 [==============================] - 3s 46us/step - loss: 0.1299 - acc: 0.9697\n",
            "Epoch 76/100\n",
            "60000/60000 [==============================] - 3s 46us/step - loss: 0.1290 - acc: 0.9699\n",
            "Epoch 77/100\n",
            "60000/60000 [==============================] - 3s 46us/step - loss: 0.1280 - acc: 0.9703\n",
            "Epoch 78/100\n",
            "60000/60000 [==============================] - 3s 46us/step - loss: 0.1271 - acc: 0.9705\n",
            "Epoch 79/100\n",
            "60000/60000 [==============================] - 3s 46us/step - loss: 0.1262 - acc: 0.9706\n",
            "Epoch 80/100\n",
            "60000/60000 [==============================] - 3s 46us/step - loss: 0.1254 - acc: 0.9710\n",
            "Epoch 81/100\n",
            "60000/60000 [==============================] - 3s 46us/step - loss: 0.1245 - acc: 0.9711\n",
            "Epoch 82/100\n",
            "60000/60000 [==============================] - 3s 46us/step - loss: 0.1237 - acc: 0.9714\n",
            "Epoch 83/100\n",
            "60000/60000 [==============================] - 3s 53us/step - loss: 0.1229 - acc: 0.9718\n",
            "Epoch 84/100\n",
            "60000/60000 [==============================] - 4s 58us/step - loss: 0.1220 - acc: 0.9717\n",
            "Epoch 85/100\n",
            "60000/60000 [==============================] - 4s 58us/step - loss: 0.1212 - acc: 0.9721\n",
            "Epoch 86/100\n",
            "60000/60000 [==============================] - 3s 50us/step - loss: 0.1205 - acc: 0.9722\n",
            "Epoch 87/100\n",
            "60000/60000 [==============================] - 3s 46us/step - loss: 0.1197 - acc: 0.9726\n",
            "Epoch 88/100\n",
            "60000/60000 [==============================] - 3s 46us/step - loss: 0.1189 - acc: 0.9727\n",
            "Epoch 89/100\n",
            "60000/60000 [==============================] - 3s 46us/step - loss: 0.1182 - acc: 0.9730\n",
            "Epoch 90/100\n",
            "60000/60000 [==============================] - 3s 46us/step - loss: 0.1174 - acc: 0.9731\n",
            "Epoch 91/100\n",
            "60000/60000 [==============================] - 3s 45us/step - loss: 0.1167 - acc: 0.9735\n",
            "Epoch 92/100\n",
            "60000/60000 [==============================] - 3s 45us/step - loss: 0.1160 - acc: 0.9735\n",
            "Epoch 93/100\n",
            "60000/60000 [==============================] - 3s 45us/step - loss: 0.1153 - acc: 0.9737\n",
            "Epoch 94/100\n",
            "60000/60000 [==============================] - 3s 45us/step - loss: 0.1146 - acc: 0.9741\n",
            "Epoch 95/100\n",
            "60000/60000 [==============================] - 3s 45us/step - loss: 0.1139 - acc: 0.9742\n",
            "Epoch 96/100\n",
            "60000/60000 [==============================] - 3s 45us/step - loss: 0.1132 - acc: 0.9742\n",
            "Epoch 97/100\n",
            "60000/60000 [==============================] - 3s 45us/step - loss: 0.1125 - acc: 0.9745\n",
            "Epoch 98/100\n",
            "60000/60000 [==============================] - 3s 45us/step - loss: 0.1119 - acc: 0.9748\n",
            "Epoch 99/100\n",
            "60000/60000 [==============================] - 3s 45us/step - loss: 0.1112 - acc: 0.9749\n",
            "Epoch 100/100\n",
            "60000/60000 [==============================] - 3s 45us/step - loss: 0.1106 - acc: 0.9751\n"
          ],
          "name": "stdout"
        },
        {
          "output_type": "execute_result",
          "data": {
            "text/plain": [
              "<keras.callbacks.History at 0x7fa1ae942748>"
            ]
          },
          "metadata": {
            "tags": []
          },
          "execution_count": 30
        }
      ]
    },
    {
      "metadata": {
        "id": "k7SmnWdeFNPx",
        "colab_type": "code",
        "outputId": "7b9d7a55-b29f-4007-f846-d9eddc72bddb",
        "colab": {
          "base_uri": "https://localhost:8080/",
          "height": 35
        }
      },
      "cell_type": "code",
      "source": [
        "#Find white areas of test images\n",
        "bWTestImages = vectorBW(x_test)\n",
        "tempTestImages = np.copy(bWTestImages)\n",
        "areasTest = numberOfWhiteAreas(tempTestImages)"
      ],
      "execution_count": 31,
      "outputs": [
        {
          "output_type": "stream",
          "text": [
            "Done\n"
          ],
          "name": "stdout"
        }
      ]
    },
    {
      "metadata": {
        "id": "TGElk21witcf",
        "colab_type": "code",
        "colab": {
          "base_uri": "https://localhost:8080/",
          "height": 35
        },
        "outputId": "dc71f30a-9ecc-4a84-cf88-618894125b98"
      },
      "cell_type": "code",
      "source": [
        "#Find height and width of test images\n",
        "tempTestImages = np.copy(bWTestImages)\n",
        "height,width = dimensionsOfDigit(tempTestImages)"
      ],
      "execution_count": 32,
      "outputs": [
        {
          "output_type": "stream",
          "text": [
            "Done\n"
          ],
          "name": "stdout"
        }
      ]
    },
    {
      "metadata": {
        "id": "3mNrLBOdbwS1",
        "colab_type": "code",
        "colab": {}
      },
      "cell_type": "code",
      "source": [
        "#append areas,height,width to test data\n",
        "xTest = x_test.reshape(10000,784)\n",
        "yTest = scalarToVector(y_test)\n",
        "\n",
        "areasTest = areasTest.reshape(10000,1)\n",
        "areasTestNorm = areasTest/3\n",
        "height = height/28\n",
        "width = width/28\n",
        "xTest = x_test.reshape(10000,784)\n",
        "xTestWithAreas = np.c_[height,width,areasTestNorm,xTest]"
      ],
      "execution_count": 0,
      "outputs": []
    },
    {
      "metadata": {
        "id": "Q8BohY-McNXE",
        "colab_type": "code",
        "outputId": "ebeb7aeb-05d9-4296-d249-4d2e8e616206",
        "colab": {
          "base_uri": "https://localhost:8080/",
          "height": 52
        }
      },
      "cell_type": "code",
      "source": [
        "#Evaluating accuracy after adding extra features\n",
        "loss,acc = kerasClassifierWithAreas.evaluate(xTestWithAreas,yTest)\n",
        "print(acc*100,'% Accuracy')"
      ],
      "execution_count": 34,
      "outputs": [
        {
          "output_type": "stream",
          "text": [
            "10000/10000 [==============================] - 1s 51us/step\n",
            "94.04 % Accuracy\n"
          ],
          "name": "stdout"
        }
      ]
    },
    {
      "metadata": {
        "id": "9_p-35u1i4Ar",
        "colab_type": "code",
        "colab": {}
      },
      "cell_type": "code",
      "source": [
        "#End"
      ],
      "execution_count": 0,
      "outputs": []
    }
  ]
}