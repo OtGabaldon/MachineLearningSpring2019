{
  "nbformat": 4,
  "nbformat_minor": 0,
  "metadata": {
    "colab": {
      "name": "Homework1.ipynb",
      "version": "0.3.2",
      "provenance": [],
      "collapsed_sections": []
    },
    "kernelspec": {
      "name": "python3",
      "display_name": "Python 3"
    }
  },
  "cells": [
    {
      "metadata": {
        "id": "2kGKqMJeeqg2",
        "colab_type": "code",
        "colab": {}
      },
      "cell_type": "code",
      "source": [
        "import keras\n",
        "from keras.datasets import mnist\n",
        "import matplotlib.pyplot as plt\n",
        "import numpy as np\n",
        "from IPython.display import clear_output\n",
        "#Load Data\n",
        "(x_train,y_train),(x_test,y_test) = mnist.load_data()\n",
        "learningRate = .01"
      ],
      "execution_count": 0,
      "outputs": []
    },
    {
      "metadata": {
        "id": "je_Hyw91deCH",
        "colab_type": "code",
        "colab": {}
      },
      "cell_type": "code",
      "source": [
        "def sigmoid(x):\n",
        "  return 1. / (1. + np.exp(-x))\n",
        "\n",
        "def sigmoidDerivative(x):\n",
        "  sig=sigmoid(x)\n",
        "  return sig*(1. - sig)\n",
        "\n",
        "def changeToBinary(label,num):\n",
        "  labelCopy = np.array(label)\n",
        "  for i in range(label.size):\n",
        "    if(labelCopy[i] == num):\n",
        "      labelCopy[i]=1\n",
        "    else:\n",
        "      labelCopy[i]=0 \n",
        "  return labelCopy  \n",
        "\n",
        "def softmax(x):\n",
        "   return np.exp(x) / np.sum(np.exp(x), axis=0)"
      ],
      "execution_count": 0,
      "outputs": []
    },
    {
      "metadata": {
        "id": "UBylarWLlsyK",
        "colab_type": "code",
        "colab": {}
      },
      "cell_type": "code",
      "source": [
        "###########\n",
        "#PROBLEM 1#\n",
        "###########\n",
        "\n",
        "def miniBatchSGDMeanSquared(x_train,y_train,epoch=10,batch=5,model=0):\n",
        "  np.random.seed(20)\n",
        "  \n",
        "  numFeatures = int(x_train.size/784)\n",
        "  #Flaten to a 2D array\n",
        "  xFlat = (x_train.reshape(60000,784))\n",
        "  yTrain = (y_train.reshape(60000,1))\n",
        "  \n",
        "  #normalize and add bias to features\n",
        "  normFeatures = xFlat/255\n",
        "  featuresBias = np.c_[np.ones((60000,1)),normFeatures]\n",
        "  \n",
        "  weights = np.random.randn(785,1)#785 pixels per image(28^2) +1 for bias\n",
        "  weightsList = []\n",
        "  \n",
        "  #change labels to binary\n",
        "  binaryLabels = changeToBinary(yTrain,model)\n",
        "\n",
        "  for epoch in range(epoch):\n",
        "    #Taken from Linear Regression class notebook by Paul Wocjan\n",
        "    shuffledIndices = np.random.permutation(numFeatures)\n",
        "    shuffledFeatures = featuresBias[shuffledIndices]\n",
        "    shuffledLabels = binaryLabels[shuffledIndices]\n",
        "    \n",
        "    for i in range(0,numFeatures,batch):\n",
        "      #Fetch random sample\n",
        "      randomFeatures = shuffledFeatures[i:i+batch]\n",
        "      randomLabels = shuffledLabels[i:i+batch]\n",
        "      predictions = randomFeatures.dot(weights)\n",
        "      gradient = randomFeatures.T.dot((sigmoid(predictions) - randomLabels) * sigmoidDerivative(predictions))\n",
        "      weights = weights - (learningRate * gradient) \n",
        "    weightsList.append(weights)\n",
        "  return weightsList\n"
      ],
      "execution_count": 0,
      "outputs": []
    },
    {
      "metadata": {
        "id": "tB6xa4GhIfTy",
        "colab_type": "code",
        "outputId": "6501c039-b816-41bb-940a-ee835392d023",
        "colab": {
          "base_uri": "https://localhost:8080/",
          "height": 35
        }
      },
      "cell_type": "code",
      "source": [
        "#Creating 10 binary models\n",
        "from IPython.display import clear_output\n",
        "digitModels = []\n",
        "#Takes last model -- Could be improved to search for the best model\n",
        "for digit in np.arange(10):\n",
        "  clear_output()\n",
        "  print(digit*10,\"% Done\")\n",
        "  epochWeights = miniBatchSGDMeanSquared(x_train,y_train,epoch =300 , batch = 100, model=digit)\n",
        "  digitModels.append(epochWeights[-1])\n",
        "clear_output()\n",
        "print('Done')"
      ],
      "execution_count": 0,
      "outputs": [
        {
          "output_type": "stream",
          "text": [
            "Done\n"
          ],
          "name": "stdout"
        }
      ]
    },
    {
      "metadata": {
        "id": "s0xsx734eC75",
        "colab_type": "code",
        "colab": {}
      },
      "cell_type": "code",
      "source": [
        "#Formatting feature data\n",
        "modelsMSE = np.array(digitModels)\n",
        "normXTestFlat = x_test.reshape(10000,784)/255\n",
        "normXTestFlatBiased = np.c_[np.ones((10000,1)),normXTestFlat]"
      ],
      "execution_count": 0,
      "outputs": []
    },
    {
      "metadata": {
        "id": "FVuDE4J4muYT",
        "colab_type": "code",
        "outputId": "f9741421-e87a-49cc-ff82-5b97dfd7b408",
        "colab": {
          "base_uri": "https://localhost:8080/",
          "height": 35
        }
      },
      "cell_type": "code",
      "source": [
        "#Testing 10 binary models\n",
        "counterMSE = 0\n",
        "correctMSE = 0\n",
        "\n",
        "for y in y_test:\n",
        "  predictionMSE = []\n",
        "  for i in np.arange(10):\n",
        "    predictionMSE.append(sigmoid(normXTestFlatBiased[counterMSE].dot(modelsMSE[i])))\n",
        "  predictionCE = np.argmax(predictionMSE)\n",
        "  if(predictionCE == y):\n",
        "    correctMSE += 1\n",
        "  counterMSE += 1\n",
        "\n",
        "print(correctMSE/10000,'% Accuracy')"
      ],
      "execution_count": 0,
      "outputs": [
        {
          "output_type": "stream",
          "text": [
            "0.7523 % Accuracy\n"
          ],
          "name": "stdout"
        }
      ]
    },
    {
      "metadata": {
        "id": "JV8bekD9792S",
        "colab_type": "code",
        "colab": {}
      },
      "cell_type": "code",
      "source": [
        "###########\n",
        "#PROBLEM 2#\n",
        "###########\n",
        "\n",
        "def miniBatchSGDCrossEntropy(x_train,y_train,epoch=10,batch=5,model=0):\n",
        "  np.random.seed(20)\n",
        "  \n",
        "  numFeatures = int(x_train.size/784)\n",
        "  #Flaten to a 2D array\n",
        "  xFlat = (x_train.reshape(60000,784))\n",
        "  yTrain = (y_train.reshape(60000,1))\n",
        "  \n",
        "  #normalize and add bias to features\n",
        "  normFeatures = xFlat/255\n",
        "  featuresBias = np.c_[np.ones((60000,1)),normFeatures]\n",
        "  \n",
        "  weights = np.random.randn(785,1)#785 pixels per image(28^2) +1 for bias\n",
        "  weightsList = []\n",
        "  \n",
        "  #change labels to binary\n",
        "  binaryLabels = changeToBinary(yTrain,model)\n",
        "\n",
        "  for epoch in range(epoch):\n",
        "    #Taken from Linear Regression class notebook by Paul Wocjan\n",
        "    shuffledIndices = np.random.permutation(numFeatures)\n",
        "    shuffledFeatures = featuresBias[shuffledIndices]\n",
        "    shuffledLabels = binaryLabels[shuffledIndices]\n",
        "    \n",
        "    for i in range(0,numFeatures,batch):\n",
        "      #Fetch random sample\n",
        "      randomFeatures = shuffledFeatures[i:i+batch]\n",
        "      randomLabels = shuffledLabels[i:i+batch]\n",
        "      predictions = randomFeatures.dot(weights)\n",
        "      gradient = randomFeatures.T.dot((sigmoid(predictions) - randomLabels))\n",
        "      weights = weights - (learningRate * gradient) \n",
        "    weightsList.append(weights)\n",
        "  return weightsList"
      ],
      "execution_count": 0,
      "outputs": []
    },
    {
      "metadata": {
        "id": "yAyT5xLKib7Z",
        "colab_type": "code",
        "outputId": "40c74c42-8eeb-44b9-d871-4c4958322d59",
        "colab": {
          "base_uri": "https://localhost:8080/",
          "height": 35
        }
      },
      "cell_type": "code",
      "source": [
        "#Creating 10 binary models\n",
        "digitModelsCE = []\n",
        "#Takes last model -- Could be improved to search for the best model\n",
        "for digit in np.arange(10):\n",
        "  clear_output()\n",
        "  print(digit*10,\"% Done\")\n",
        "  epochWeights = miniBatchSGDCrossEntropy(x_train,y_train,epoch =30 , batch = 100, model=digit)\n",
        "  digitModelsCE.append(epochWeights[-1])\n",
        "clear_output()\n",
        "print('Done')"
      ],
      "execution_count": 0,
      "outputs": [
        {
          "output_type": "stream",
          "text": [
            "Done\n"
          ],
          "name": "stdout"
        }
      ]
    },
    {
      "metadata": {
        "id": "oFe2D1C8lW0K",
        "colab_type": "code",
        "colab": {}
      },
      "cell_type": "code",
      "source": [
        "#Formatting feature data\n",
        "modelsCE = np.array(digitModelsCE)\n",
        "normXTestFlat = x_test.reshape(10000,784)/255\n",
        "normXTestFlatBiased = np.c_[np.ones((10000,1)),normXTestFlat]"
      ],
      "execution_count": 0,
      "outputs": []
    },
    {
      "metadata": {
        "id": "RzioYSLze7so",
        "colab_type": "code",
        "outputId": "5b79a552-d04b-47d7-98d4-2ba1e2001a2c",
        "colab": {
          "base_uri": "https://localhost:8080/",
          "height": 35
        }
      },
      "cell_type": "code",
      "source": [
        "#Testing 10 binary models\n",
        "counterCE = 0\n",
        "correctCE = 0\n",
        "\n",
        "for y in y_test:\n",
        "  predictionCE = []\n",
        "  for i in np.arange(10):\n",
        "    predictionCE.append(sigmoid(normXTestFlatBiased[counterCE].dot(modelsCE[i])))\n",
        "  predictionCE = np.argmax(predictionCE)\n",
        "  if(predictionCE == y):\n",
        "    correctCE += 1\n",
        "  counterCE += 1\n",
        "\n",
        "print(correctCE/10000,'% Accuracy')"
      ],
      "execution_count": 0,
      "outputs": [
        {
          "output_type": "stream",
          "text": [
            "0.9181 % Accuracy\n"
          ],
          "name": "stdout"
        }
      ]
    },
    {
      "metadata": {
        "id": "LsLWdI9Whi46",
        "colab_type": "code",
        "colab": {}
      },
      "cell_type": "code",
      "source": [
        "###########\n",
        "#PROBLEM 3#\n",
        "###########\n",
        "\n",
        "def scalarToVector(labels):\n",
        "  vectorizedLabels = []\n",
        "  for scalar in labels:\n",
        "    vector = np.zeros((10,1))\n",
        "    vector[scalar]=1\n",
        "    vectorizedLabels.append(vector)\n",
        "  return np.array(vectorizedLabels).reshape((len(labels),10))    \n",
        "                         "
      ],
      "execution_count": 0,
      "outputs": []
    },
    {
      "metadata": {
        "id": "SBInISy1Zkq6",
        "colab_type": "code",
        "colab": {}
      },
      "cell_type": "code",
      "source": [
        "def classifier(x_train, y_train, epoch = 50, batch = 50):\n",
        "  np.random.seed(20)\n",
        "  \n",
        "  numFeatures = int(x_train.size/784)\n",
        "  \n",
        "  #Flaten to a 2D array\n",
        "  xFlat = (x_train.reshape(60000,784))\n",
        "  \n",
        "  #Vectorize the lables\n",
        "  yTrain = scalarToVector(y_train)\n",
        "  \n",
        "  #normalize and add bias to features\n",
        "  normFeatures = xFlat/255\n",
        "  featuresBias = np.c_[np.ones((60000,1)),normFeatures]\n",
        "  weights = np.random.randn(785,10)#785 pixels per image(28^2) +1 for bias\n",
        "  weightsList = []\n",
        "\n",
        "  for epoch in range(epoch):\n",
        "    #Taken from Linear Regression class notebook by Paul Wocjan\n",
        "    shuffledIndices = np.random.permutation(numFeatures)\n",
        "    shuffledFeatures = featuresBias[shuffledIndices]\n",
        "    shuffledLabels = yTrain[shuffledIndices]\n",
        "    \n",
        "    for i in range(0,numFeatures,batch):\n",
        "      #Fetch random sample\n",
        "      randomFeatures = shuffledFeatures[i:i+batch]\n",
        "      randomLabels = shuffledLabels[i:i+batch]\n",
        "      predictions = randomFeatures.dot(weights)\n",
        "      gradient = randomFeatures.T.dot((sigmoid(predictions) - randomLabels))\n",
        "      weights = weights - (learningRate * gradient) \n",
        "    weightsList.append(weights)\n",
        "  return weightsList"
      ],
      "execution_count": 0,
      "outputs": []
    },
    {
      "metadata": {
        "id": "azqdqLmxkudW",
        "colab_type": "code",
        "colab": {
          "base_uri": "https://localhost:8080/",
          "height": 328
        },
        "outputId": "63fdc213-b781-4775-b65f-547286cccd93"
      },
      "cell_type": "code",
      "source": [
        "#Train classifier\n",
        "classifierWeights = classifier(x_train,y_train)"
      ],
      "execution_count": 215,
      "outputs": [
        {
          "output_type": "stream",
          "text": [
            "(60000, 784)\n"
          ],
          "name": "stdout"
        },
        {
          "output_type": "error",
          "ename": "NameError",
          "evalue": "ignored",
          "traceback": [
            "\u001b[0;31m---------------------------------------------------------------------------\u001b[0m",
            "\u001b[0;31mNameError\u001b[0m                                 Traceback (most recent call last)",
            "\u001b[0;32m<ipython-input-215-182e6c8d5173>\u001b[0m in \u001b[0;36m<module>\u001b[0;34m()\u001b[0m\n\u001b[0;32m----> 1\u001b[0;31m \u001b[0mclassifierWeights\u001b[0m \u001b[0;34m=\u001b[0m \u001b[0mclassifier\u001b[0m\u001b[0;34m(\u001b[0m\u001b[0mx_train\u001b[0m\u001b[0;34m,\u001b[0m\u001b[0my_train\u001b[0m\u001b[0;34m)\u001b[0m\u001b[0;34m\u001b[0m\u001b[0;34m\u001b[0m\u001b[0m\n\u001b[0m",
            "\u001b[0;32m<ipython-input-213-587ef0b9ba41>\u001b[0m in \u001b[0;36mclassifier\u001b[0;34m(x_train, y_train, epoch, batch)\u001b[0m\n\u001b[1;32m     28\u001b[0m       \u001b[0mrandomLabels\u001b[0m \u001b[0;34m=\u001b[0m \u001b[0mshuffledLabels\u001b[0m\u001b[0;34m[\u001b[0m\u001b[0mi\u001b[0m\u001b[0;34m:\u001b[0m\u001b[0mi\u001b[0m\u001b[0;34m+\u001b[0m\u001b[0mbatch\u001b[0m\u001b[0;34m]\u001b[0m\u001b[0;34m\u001b[0m\u001b[0;34m\u001b[0m\u001b[0m\n\u001b[1;32m     29\u001b[0m       \u001b[0mpredictions\u001b[0m \u001b[0;34m=\u001b[0m \u001b[0mrandomFeatures\u001b[0m\u001b[0;34m.\u001b[0m\u001b[0mdot\u001b[0m\u001b[0;34m(\u001b[0m\u001b[0mweights\u001b[0m\u001b[0;34m)\u001b[0m\u001b[0;34m\u001b[0m\u001b[0;34m\u001b[0m\u001b[0m\n\u001b[0;32m---> 30\u001b[0;31m       \u001b[0mgradient\u001b[0m \u001b[0;34m=\u001b[0m \u001b[0mrandomFeatures\u001b[0m\u001b[0;34m.\u001b[0m\u001b[0mT\u001b[0m\u001b[0;34m.\u001b[0m\u001b[0mdot\u001b[0m\u001b[0;34m(\u001b[0m\u001b[0;34m(\u001b[0m\u001b[0msigmoid\u001b[0m\u001b[0;34m(\u001b[0m\u001b[0mpredictions\u001b[0m\u001b[0;34m)\u001b[0m \u001b[0;34m-\u001b[0m \u001b[0mrandomLabels\u001b[0m\u001b[0;34m)\u001b[0m\u001b[0;34m)\u001b[0m\u001b[0;34m\u001b[0m\u001b[0;34m\u001b[0m\u001b[0m\n\u001b[0m\u001b[1;32m     31\u001b[0m       \u001b[0mweights\u001b[0m \u001b[0;34m=\u001b[0m \u001b[0mweights\u001b[0m \u001b[0;34m-\u001b[0m \u001b[0;34m(\u001b[0m\u001b[0mlearningRate\u001b[0m \u001b[0;34m*\u001b[0m \u001b[0mgradient\u001b[0m\u001b[0;34m)\u001b[0m\u001b[0;34m\u001b[0m\u001b[0;34m\u001b[0m\u001b[0m\n\u001b[1;32m     32\u001b[0m     \u001b[0mweightsList\u001b[0m\u001b[0;34m.\u001b[0m\u001b[0mappend\u001b[0m\u001b[0;34m(\u001b[0m\u001b[0mweights\u001b[0m\u001b[0;34m)\u001b[0m\u001b[0;34m\u001b[0m\u001b[0;34m\u001b[0m\u001b[0m\n",
            "\u001b[0;31mNameError\u001b[0m: name 'sigmoid' is not defined"
          ]
        }
      ]
    },
    {
      "metadata": {
        "id": "qvdV3b2p3YFH",
        "colab_type": "code",
        "colab": {}
      },
      "cell_type": "code",
      "source": [
        "#Flattening Features\n",
        "normXTestFlat = x_test.reshape(10000,784)/255\n",
        "normXTestFlatBiased = np.c_[np.ones((10000,1)),normXTestFlat]"
      ],
      "execution_count": 0,
      "outputs": []
    },
    {
      "metadata": {
        "id": "upWlOnSP-bSs",
        "colab_type": "code",
        "colab": {}
      },
      "cell_type": "code",
      "source": [
        "#Test Accuracy of classifier\n",
        "percentageList = []\n",
        "max = 0\n",
        "for weights in classifierWeights:\n",
        "  classifierCorrect = 0\n",
        "  for i in np.arange(10000):\n",
        "    prediction = normXTestFlatBiased[i].dot(weights)\n",
        "    if(np.argmax(softmax(prediction)) == y_test[i]):\n",
        "       classifierCorrect += 1\n",
        "  percent = classifierCorrect/10000\n",
        "  percentageList.append(percent)\n",
        "  if(percent > max): max = percent\n",
        "  "
      ],
      "execution_count": 0,
      "outputs": []
    },
    {
      "metadata": {
        "id": "pBiyIWdu8htp",
        "colab_type": "code",
        "colab": {
          "base_uri": "https://localhost:8080/",
          "height": 411
        },
        "outputId": "f2f339cb-ca6c-4f64-a470-f0130182effe"
      },
      "cell_type": "code",
      "source": [
        "#charting percentages\n",
        "print('Max Percentage: ',max)\n",
        "print('Final Percentage: ',percentageList[-1])\n",
        "plt.bar(np.arange(len(classifierWeights)),percentageList)\n",
        "plt.xlabel('Epochs')\n",
        "plt.ylabel('Percentage')\n",
        "plt.title('Classifier')\n",
        "plt.show()"
      ],
      "execution_count": 84,
      "outputs": [
        {
          "output_type": "stream",
          "text": [
            "Max Percentage:  0.9196\n",
            "Final Percentage:  0.9159\n"
          ],
          "name": "stdout"
        },
        {
          "output_type": "display_data",
          "data": {
            "image/png": "[encoded data removed]",
            "text/plain": [
              "<Figure size 576x396 with 1 Axes>"
            ]
          },
          "metadata": {
            "tags": []
          }
        }
      ]
    },
    {
      "metadata": {
        "id": "9eM0a8X1_Ale",
        "colab_type": "code",
        "colab": {
          "base_uri": "https://localhost:8080/",
          "height": 143
        },
        "outputId": "b7039782-b44c-4ff2-d836-c84706cd2501"
      },
      "cell_type": "code",
      "source": [
        "###########\n",
        "#PROBLEM 4#\n",
        "###########\n",
        "\n",
        "from keras.models import Sequential\n",
        "from keras.layers import Dense\n",
        "\n",
        "kerasClassifier = Sequential()\n",
        "\n",
        "kerasClassifier.add(Dense(units = 784,activation = 'sigmoid', input_shape = (784,)))\n",
        "kerasClassifier.add(Dense(units = 10,activation = 'softmax'))\n",
        "\n"
      ],
      "execution_count": 222,
      "outputs": [
        {
          "output_type": "stream",
          "text": [
            "WARNING:tensorflow:From /usr/local/lib/python3.6/dist-packages/tensorflow/python/framework/op_def_library.py:263: colocate_with (from tensorflow.python.framework.ops) is deprecated and will be removed in a future version.\n",
            "Instructions for updating:\n",
            "Colocations handled automatically by placer.\n"
          ],
          "name": "stdout"
        },
        {
          "output_type": "stream",
          "text": [
            "WARNING:tensorflow:From /usr/local/lib/python3.6/dist-packages/tensorflow/python/framework/op_def_library.py:263: colocate_with (from tensorflow.python.framework.ops) is deprecated and will be removed in a future version.\n",
            "Instructions for updating:\n",
            "Colocations handled automatically by placer.\n"
          ],
          "name": "stderr"
        }
      ]
    },
    {
      "metadata": {
        "id": "n1TYi4R0LV1z",
        "colab_type": "code",
        "colab": {}
      },
      "cell_type": "code",
      "source": [
        "kerasClassifier.compile(loss=\"categorical_crossentropy\",\n",
        "                       optimizer=\"sgd\",\n",
        "                       metrics =['accuracy'])"
      ],
      "execution_count": 0,
      "outputs": []
    },
    {
      "metadata": {
        "id": "vSL3sNcMLX_x",
        "colab_type": "code",
        "colab": {}
      },
      "cell_type": "code",
      "source": [
        "xTrain = x_train.reshape(60000,784)\n",
        "yTrain = scalarToVector(y_train)\n",
        "kerasClassifier.fit(xTrain,yTrain,epochs=100,batch_size=1000)"
      ],
      "execution_count": 0,
      "outputs": []
    },
    {
      "metadata": {
        "id": "50iE09jWY2-5",
        "colab_type": "code",
        "colab": {
          "base_uri": "https://localhost:8080/",
          "height": 52
        },
        "outputId": "53bc3821-6c55-42c9-90e1-5d861386b050"
      },
      "cell_type": "code",
      "source": [
        "xTest = x_test.reshape(10000,784)\n",
        "yTest = scalarToVector(y_test)\n",
        "loss,acc = kerasClassifier.evaluate(xTest,yTest)\n",
        "print(acc*100,'% Accuracy')"
      ],
      "execution_count": 237,
      "outputs": [
        {
          "output_type": "stream",
          "text": [
            "10000/10000 [==============================] - 1s 79us/step\n",
            "94.08 % Accuracy\n"
          ],
          "name": "stdout"
        }
      ]
    },
    {
      "metadata": {
        "id": "t_L5MS70O_ui",
        "colab_type": "code",
        "colab": {}
      },
      "cell_type": "code",
      "source": [
        "###########\n",
        "#PROBLEM 5#\n",
        "###########\n",
        "\n",
        "#Divides pixels into black or white\n",
        "def blackOrWhite(pixel):\n",
        "  if(pixel>127):\n",
        "    newPixel = 1\n",
        "  else:\n",
        "    newPixel = 0 \n",
        "  return newPixel\n",
        "\n",
        "#Finds the next white pixel\n",
        "def findWhitePixel(image):\n",
        "  rowCount,colCount = image.shape\n",
        "  rowCount = np.arange(rowCount)\n",
        "  colCount = np.arange(colCount)\n",
        "  for i in rowCount:\n",
        "    for j in colCount:\n",
        "      if(image[i][j] == 0):return (i,j)\n",
        "  return (-1,-1)\n",
        "\n",
        "#checks the bounds on an image\n",
        "def boundCheck(x,y,size):\n",
        "  if(x<0 or x>=size):\n",
        "    return False\n",
        "  if(y<0 or y>=size):\n",
        "    return False\n",
        "  return True\n",
        "\n",
        "#does the recursive floodfill\n",
        "def helper(image,x,y):\n",
        "  size=28\n",
        "  image[x][y] = 1\n",
        "  if(boundCheck(x+1,y,size) and image[x+1][y]==0):\n",
        "    image = helper(image,x+1,y)\n",
        "  if(boundCheck(x,y+1,size) and image[x][y+1]==0):\n",
        "    image = helper(image,x,y+1)\n",
        "  if(boundCheck(x-1,y,size) and image[x-1][y]==0):\n",
        "    image = helper(image,x-1,y)\n",
        "  if(boundCheck(x,y-1,size) and image[x][y-1]==0):\n",
        "    image = helper(image,x,y-1)\n",
        "  return image\n",
        "\n",
        "#main body of floodfill\n",
        "def floodFill(image):\n",
        "  x,y = findWhitePixel(image)\n",
        "  if(x==-1):\n",
        "    return 0\n",
        "  else:\n",
        "    image = helper(image,x,y)\n",
        "    return 1 + floodFill(image)\n",
        "        \n",
        "def numberOfWhiteAreas(images):\n",
        "  numWhiteSpaces = []\n",
        "  numImages = int(images.size/784);\n",
        "  for i in np.arange(numImages):\n",
        "    if(i%300 == 0):\n",
        "      clear_output()\n",
        "      print(i/numImages*100,'% Done')\n",
        "    numWhiteSpaces.append(floodFill(images[i]))\n",
        "  clear_output()\n",
        "  print('Done')  \n",
        "  return np.array(numWhiteSpaces)    \n",
        "      "
      ],
      "execution_count": 0,
      "outputs": []
    },
    {
      "metadata": {
        "id": "44op1Y2uc0Ao",
        "colab_type": "code",
        "colab": {}
      },
      "cell_type": "code",
      "source": [
        "#Creating Black and White Images\n",
        "vectorBW = np.vectorize(blackOrWhite)\n",
        "bWImages = vectorBW(x_train)"
      ],
      "execution_count": 0,
      "outputs": []
    },
    {
      "metadata": {
        "id": "f_DTaJkXy2e7",
        "colab_type": "code",
        "colab": {
          "base_uri": "https://localhost:8080/",
          "height": 35
        },
        "outputId": "e3afaf7e-c4f9-4807-cea6-591741d68cfe"
      },
      "cell_type": "code",
      "source": [
        "#Finding number of white areas in each image\n",
        "tempImages = np.copy(bWImages)\n",
        "areas = numberOfWhiteAreas(tempImages)"
      ],
      "execution_count": 193,
      "outputs": [
        {
          "output_type": "stream",
          "text": [
            "Done\n"
          ],
          "name": "stdout"
        }
      ]
    },
    {
      "metadata": {
        "id": "AEk0Q8XT4Lsp",
        "colab_type": "code",
        "colab": {}
      },
      "cell_type": "code",
      "source": [
        "areas = areas.reshape(60000,1)\n",
        "areasNorm = areas/3\n",
        "xTrain = x_train.reshape(60000,784)\n",
        "xTrainWithAreas = np.c_[areasNorm,xTrain]"
      ],
      "execution_count": 0,
      "outputs": []
    },
    {
      "metadata": {
        "id": "g06x3rXn8qa8",
        "colab_type": "code",
        "colab": {}
      },
      "cell_type": "code",
      "source": [
        "kerasClassifierWithAreas = Sequential()\n",
        "\n",
        "kerasClassifierWithAreas.add(Dense(units = 785,activation = 'sigmoid', input_shape = (785,)))\n",
        "kerasClassifierWithAreas.add(Dense(units = 10,activation = 'softmax'))\n",
        "kerasClassifierWithAreas.compile(loss=\"categorical_crossentropy\",\n",
        "                       optimizer=\"sgd\",\n",
        "                       metrics =['accuracy'])\n",
        "kerasClassifierWithAreas.fit(xTrainWithAreas,yTrain,epochs=100,batch_size=1000)"
      ],
      "execution_count": 0,
      "outputs": []
    },
    {
      "metadata": {
        "id": "k7SmnWdeFNPx",
        "colab_type": "code",
        "colab": {
          "base_uri": "https://localhost:8080/",
          "height": 35
        },
        "outputId": "470445fb-2cc6-4dc9-ab06-35441945e8b0"
      },
      "cell_type": "code",
      "source": [
        "#Find white areas of test images\n",
        "bWTestImages = vectorBW(x_test)\n",
        "tempTestImages = np.copy(bWTestImages)\n",
        "areas = numberOfWhiteAreas(tempTestImages)"
      ],
      "execution_count": 240,
      "outputs": [
        {
          "output_type": "stream",
          "text": [
            "Done\n"
          ],
          "name": "stdout"
        }
      ]
    },
    {
      "metadata": {
        "id": "3mNrLBOdbwS1",
        "colab_type": "code",
        "colab": {}
      },
      "cell_type": "code",
      "source": [
        "#append areas to test data\n",
        "xTest = x_test.reshape(10000,784)\n",
        "yTest = scalarToVector(y_test)\n",
        "\n",
        "areas = areas.reshape(10000,1)\n",
        "areasNorm = areas/3\n",
        "xTest = x_test.reshape(10000,784)\n",
        "xTestWithAreas = np.c_[areasNorm,xTest]"
      ],
      "execution_count": 0,
      "outputs": []
    },
    {
      "metadata": {
        "id": "Q8BohY-McNXE",
        "colab_type": "code",
        "colab": {
          "base_uri": "https://localhost:8080/",
          "height": 52
        },
        "outputId": "fb51afcf-2ad5-4c0f-8909-fba5a6cc8d5c"
      },
      "cell_type": "code",
      "source": [
        "loss,acc = kerasClassifierWithAreas.evaluate(xTestWithAreas,yTest)\n",
        "print(acc*100,'% Accuracy')"
      ],
      "execution_count": 246,
      "outputs": [
        {
          "output_type": "stream",
          "text": [
            "10000/10000 [==============================] - 1s 85us/step\n",
            "94.07 % Accuracy\n"
          ],
          "name": "stdout"
        }
      ]
    },
    {
      "metadata": {
        "id": "flzSIMjfdxNu",
        "colab_type": "code",
        "colab": {}
      },
      "cell_type": "code",
      "source": [
        ""
      ],
      "execution_count": 0,
      "outputs": []
    }
  ]
}