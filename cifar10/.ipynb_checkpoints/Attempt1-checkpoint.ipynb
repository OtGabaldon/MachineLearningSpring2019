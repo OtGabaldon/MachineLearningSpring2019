{
 "cells": [
  {
   "cell_type": "code",
   "execution_count": 103,
   "metadata": {
    "colab": {},
    "colab_type": "code",
    "id": "AxJKjJ5oNRGi"
   },
   "outputs": [],
   "source": [
    "from keras.datasets import cifar10\n",
    "from keras.datasets import mnist\n",
    "from keras.utils import to_categorical"
   ]
  },
  {
   "cell_type": "code",
   "execution_count": 130,
   "metadata": {
    "colab": {},
    "colab_type": "code",
    "id": "QwI89K5pVoiA"
   },
   "outputs": [],
   "source": [
    "(train_images, train_labels),(test_images,test_labels) = cifar10.load_data()"
   ]
  },
  {
   "cell_type": "code",
   "execution_count": 131,
   "metadata": {
    "colab": {
     "base_uri": "https://localhost:8080/",
     "height": 70
    },
    "colab_type": "code",
    "id": "00GdCHUdO7sU",
    "outputId": "413cc5f8-176c-4cb6-e5fa-1a7b037d2ae8"
   },
   "outputs": [
    {
     "name": "stdout",
     "output_type": "stream",
     "text": [
      "50000\n",
      "10000\n",
      "(32, 32, 3)\n"
     ]
    }
   ],
   "source": [
    "print(len(train_images))\n",
    "print(len(test_images))\n",
    "print(train_images[0].shape)"
   ]
  },
  {
   "cell_type": "code",
   "execution_count": 137,
   "metadata": {
    "colab": {
     "base_uri": "https://localhost:8080/",
     "height": 199
    },
    "colab_type": "code",
    "id": "3NQX_PSvTH3a",
    "outputId": "b8723f93-2258-4743-bcb7-9cc4e623379a"
   },
   "outputs": [
    {
     "data": {
      "text/plain": [
       "<matplotlib.image.AxesImage at 0x1e78e041710>"
      ]
     },
     "execution_count": 137,
     "metadata": {},
     "output_type": "execute_result"
    },
    {
     "data": {
      "image/png": "[encoded data removed]",
      "text/plain": [
       "<Figure size 432x288 with 3 Axes>"
      ]
     },
     "metadata": {
      "needs_background": "light"
     },
     "output_type": "display_data"
    }
   ],
   "source": [
    "import matplotlib.pyplot as plt\n",
    "%matplotlib inline\n",
    "_, axarr = plt.subplots(1,3)\n",
    "axarr[0].imshow(train_images[0,:,:,2])\n",
    "axarr[1].imshow(train_images[0,:,:,1])\n",
    "axarr[2].imshow(train_images[0,:,:,0])"
   ]
  },
  {
   "cell_type": "code",
   "execution_count": 133,
   "metadata": {
    "colab": {
     "base_uri": "https://localhost:8080/",
     "height": 35
    },
    "colab_type": "code",
    "id": "mtYqbBr7VRDi",
    "outputId": "4dccae5b-2dcc-4b8e-de83-270d3f254c31"
   },
   "outputs": [],
   "source": [
    "train_labels_categorical = to_categorical(train_labels)\n",
    "test_labels_categorical = to_categorical(test_labels)"
   ]
  },
  {
   "cell_type": "code",
   "execution_count": 143,
   "metadata": {},
   "outputs": [
    {
     "data": {
      "text/plain": [
       "array([[0.24313725, 0.18039216, 0.18823529, ..., 0.51764706, 0.49019608,\n",
       "        0.48627451],\n",
       "       [0.07843137, 0.        , 0.03137255, ..., 0.34509804, 0.3254902 ,\n",
       "        0.34117647],\n",
       "       [0.09411765, 0.02745098, 0.10588235, ..., 0.32941176, 0.32941176,\n",
       "        0.28627451],\n",
       "       ...,\n",
       "       [0.66666667, 0.6       , 0.63137255, ..., 0.52156863, 0.12156863,\n",
       "        0.13333333],\n",
       "       [0.54509804, 0.48235294, 0.56470588, ..., 0.58039216, 0.24313725,\n",
       "        0.20784314],\n",
       "       [0.56470588, 0.50588235, 0.55686275, ..., 0.72156863, 0.4627451 ,\n",
       "        0.36078431]])"
      ]
     },
     "execution_count": 143,
     "metadata": {},
     "output_type": "execute_result"
    }
   ],
   "source": [
    "train_images_norm = train_images/255.\n",
    "test_images_norm = test_images/255."
   ]
  },
  {
   "cell_type": "code",
   "execution_count": 159,
   "metadata": {
    "colab": {},
    "colab_type": "code",
    "id": "byGdeaJJSBzp"
   },
   "outputs": [],
   "source": [
    "from keras import layers\n",
    "from keras import models\n",
    "\n",
    "model = models.Sequential()\n",
    "\n",
    "model.add(layers.Conv2D(32,(3,3), padding=\"same\",activation='relu',input_shape=(32,32,3)))\n",
    "model.add(layers.Conv2D(32,(3,3), padding=\"same\", activation='relu'))\n",
    "model.add(layers.MaxPooling2D(2,2))\n",
    "\n",
    "model.add(layers.Conv2D(64,(3,3), padding=\"same\", activation='relu'))\n",
    "model.add(layers.Conv2D(64,(3,3), padding=\"same\", activation='relu'))\n",
    "model.add(layers.MaxPooling2D(2,2))\n",
    "\n",
    "model.add(layers.Conv2D(128,(3,3), padding=\"same\", activation='relu'))\n",
    "model.add(layers.Conv2D(128,(3,3),padding=\"same\", activation='relu'))\n",
    "model.add(layers.MaxPooling2D(2,2))\n",
    "\n",
    "model.add(layers.Flatten())\n",
    "model.add(layers.Dense(64,activation='relu'))\n",
    "model.add(layers.Dense(10,activation=\"softmax\"))"
   ]
  },
  {
   "cell_type": "code",
   "execution_count": 160,
   "metadata": {
    "colab": {
     "base_uri": "https://localhost:8080/",
     "height": 457
    },
    "colab_type": "code",
    "id": "Y7RRWsLuSDyZ",
    "outputId": "23df4ddf-aded-4801-ec43-2f433f26bac5"
   },
   "outputs": [
    {
     "name": "stdout",
     "output_type": "stream",
     "text": [
      "_________________________________________________________________\n",
      "Layer (type)                 Output Shape              Param #   \n",
      "=================================================================\n",
      "conv2d_64 (Conv2D)           (None, 32, 32, 32)        896       \n",
      "_________________________________________________________________\n",
      "conv2d_65 (Conv2D)           (None, 32, 32, 32)        9248      \n",
      "_________________________________________________________________\n",
      "max_pooling2d_46 (MaxPooling (None, 16, 16, 32)        0         \n",
      "_________________________________________________________________\n",
      "conv2d_66 (Conv2D)           (None, 16, 16, 64)        18496     \n",
      "_________________________________________________________________\n",
      "conv2d_67 (Conv2D)           (None, 16, 16, 64)        36928     \n",
      "_________________________________________________________________\n",
      "max_pooling2d_47 (MaxPooling (None, 8, 8, 64)          0         \n",
      "_________________________________________________________________\n",
      "conv2d_68 (Conv2D)           (None, 8, 8, 128)         73856     \n",
      "_________________________________________________________________\n",
      "conv2d_69 (Conv2D)           (None, 8, 8, 128)         147584    \n",
      "_________________________________________________________________\n",
      "max_pooling2d_48 (MaxPooling (None, 4, 4, 128)         0         \n",
      "_________________________________________________________________\n",
      "flatten_19 (Flatten)         (None, 2048)              0         \n",
      "_________________________________________________________________\n",
      "dense_37 (Dense)             (None, 64)                131136    \n",
      "_________________________________________________________________\n",
      "dense_38 (Dense)             (None, 10)                650       \n",
      "=================================================================\n",
      "Total params: 418,794\n",
      "Trainable params: 418,794\n",
      "Non-trainable params: 0\n",
      "_________________________________________________________________\n"
     ]
    }
   ],
   "source": [
    "model.summary()"
   ]
  },
  {
   "cell_type": "code",
   "execution_count": 126,
   "metadata": {
    "colab": {},
    "colab_type": "code",
    "id": "lj1xL8WZUi5D"
   },
   "outputs": [],
   "source": [
    "from keras import optimizers\n",
    "opt = optimizers.RMSprop(lr=0.001)\n",
    "model.compile(\n",
    "  loss=\"categorical_crossentropy\",\n",
    "  optimizer=opt,\n",
    "  metrics=['acc']\n",
    ")"
   ]
  },
  {
   "cell_type": "code",
   "execution_count": 128,
   "metadata": {
    "colab": {
     "base_uri": "https://localhost:8080/",
     "height": 160
    },
    "colab_type": "code",
    "id": "gYjZfGU4acdx",
    "outputId": "410dbb6c-8de7-40f0-bf1f-d041ce837073"
   },
   "outputs": [
    {
     "name": "stdout",
     "output_type": "stream",
     "text": [
      "Train on 40000 samples, validate on 10000 samples\n",
      "Epoch 1/30\n",
      "40000/40000 [==============================] - 110s 3ms/step - loss: 2.3027 - acc: 0.0983 - val_loss: 2.3027 - val_acc: 0.0952\n",
      "Epoch 2/30\n",
      "40000/40000 [==============================] - 110s 3ms/step - loss: 2.3027 - acc: 0.0994 - val_loss: 2.3028 - val_acc: 0.0952\n",
      "Epoch 3/30\n",
      "40000/40000 [==============================] - 113s 3ms/step - loss: 2.3027 - acc: 0.1003 - val_loss: 2.3028 - val_acc: 0.0952\n",
      "Epoch 4/30\n",
      "40000/40000 [==============================] - 130s 3ms/step - loss: 2.3027 - acc: 0.1005 - val_loss: 2.3028 - val_acc: 0.0952\n",
      "Epoch 5/30\n",
      "40000/40000 [==============================] - 124s 3ms/step - loss: 2.3027 - acc: 0.0997 - val_loss: 2.3028 - val_acc: 0.0952\n",
      "Epoch 6/30\n",
      "40000/40000 [==============================] - 154s 4ms/step - loss: 2.3027 - acc: 0.1002 - val_loss: 2.3027 - val_acc: 0.0952\n",
      "Epoch 7/30\n",
      "40000/40000 [==============================] - 109s 3ms/step - loss: 2.3027 - acc: 0.1001 - val_loss: 2.3026 - val_acc: 0.1016\n",
      "Epoch 8/30\n",
      "40000/40000 [==============================] - 137s 3ms/step - loss: 2.3027 - acc: 0.0969 - val_loss: 2.3027 - val_acc: 0.0977\n",
      "Epoch 9/30\n",
      "40000/40000 [==============================] - 121s 3ms/step - loss: 2.3027 - acc: 0.0992 - val_loss: 2.3027 - val_acc: 0.0977\n",
      "Epoch 10/30\n",
      "40000/40000 [==============================] - 116s 3ms/step - loss: 2.3027 - acc: 0.0987 - val_loss: 2.3028 - val_acc: 0.0977\n",
      "Epoch 11/30\n",
      "40000/40000 [==============================] - 146s 4ms/step - loss: 2.3027 - acc: 0.1005 - val_loss: 2.3027 - val_acc: 0.0977\n",
      "Epoch 12/30\n",
      "40000/40000 [==============================] - 142s 4ms/step - loss: 2.3027 - acc: 0.0983 - val_loss: 2.3028 - val_acc: 0.0952\n",
      "Epoch 13/30\n",
      "40000/40000 [==============================] - 115s 3ms/step - loss: 2.3027 - acc: 0.1002 - val_loss: 2.3028 - val_acc: 0.0952\n",
      "Epoch 14/30\n",
      "40000/40000 [==============================] - 111s 3ms/step - loss: 2.3027 - acc: 0.0990 - val_loss: 2.3028 - val_acc: 0.0952\n",
      "Epoch 15/30\n",
      "40000/40000 [==============================] - 113s 3ms/step - loss: 2.3027 - acc: 0.0988 - val_loss: 2.3027 - val_acc: 0.0952\n",
      "Epoch 16/30\n",
      "40000/40000 [==============================] - 113s 3ms/step - loss: 2.3027 - acc: 0.0992 - val_loss: 2.3029 - val_acc: 0.0952\n",
      "Epoch 17/30\n",
      "40000/40000 [==============================] - 145s 4ms/step - loss: 2.3027 - acc: 0.0986 - val_loss: 2.3027 - val_acc: 0.0952\n",
      "Epoch 18/30\n",
      "40000/40000 [==============================] - 135s 3ms/step - loss: 2.3027 - acc: 0.0992 - val_loss: 2.3027 - val_acc: 0.0997\n",
      "Epoch 19/30\n",
      "40000/40000 [==============================] - 99s 2ms/step - loss: 2.3027 - acc: 0.0995 - val_loss: 2.3028 - val_acc: 0.0980\n",
      "Epoch 20/30\n",
      "40000/40000 [==============================] - 99s 2ms/step - loss: 2.3027 - acc: 0.0993 - val_loss: 2.3028 - val_acc: 0.0952\n",
      "Epoch 21/30\n",
      "40000/40000 [==============================] - 110s 3ms/step - loss: 2.3027 - acc: 0.1007 - val_loss: 2.3027 - val_acc: 0.0952\n",
      "Epoch 22/30\n",
      "40000/40000 [==============================] - 117s 3ms/step - loss: 2.3027 - acc: 0.0999 - val_loss: 2.3028 - val_acc: 0.0952\n",
      "Epoch 23/30\n",
      "40000/40000 [==============================] - 108s 3ms/step - loss: 2.3027 - acc: 0.1003 - val_loss: 2.3027 - val_acc: 0.0952\n",
      "Epoch 24/30\n",
      "40000/40000 [==============================] - 120s 3ms/step - loss: 2.3027 - acc: 0.1004 - val_loss: 2.3028 - val_acc: 0.0952\n",
      "Epoch 25/30\n",
      "40000/40000 [==============================] - 123s 3ms/step - loss: 2.3027 - acc: 0.1009 - val_loss: 2.3028 - val_acc: 0.0977\n",
      "Epoch 26/30\n",
      "40000/40000 [==============================] - 122s 3ms/step - loss: 2.3027 - acc: 0.1000 - val_loss: 2.3027 - val_acc: 0.0977\n",
      "Epoch 27/30\n",
      "40000/40000 [==============================] - 113s 3ms/step - loss: 2.3027 - acc: 0.0989 - val_loss: 2.3028 - val_acc: 0.0952\n",
      "Epoch 28/30\n",
      "40000/40000 [==============================] - 119s 3ms/step - loss: 2.3027 - acc: 0.0994 - val_loss: 2.3028 - val_acc: 0.0952\n",
      "Epoch 29/30\n",
      "40000/40000 [==============================] - 111s 3ms/step - loss: 2.3027 - acc: 0.0983 - val_loss: 2.3027 - val_acc: 0.0952\n",
      "Epoch 30/30\n",
      "40000/40000 [==============================] - 130s 3ms/step - loss: 2.3027 - acc: 0.0996 - val_loss: 2.3027 - val_acc: 0.0977\n"
     ]
    }
   ],
   "source": [
    "history = model.fit(\n",
    "  x=train_images_norm,\n",
    "  y=train_labels_categorical,\n",
    "  epochs=30,\n",
    "  batch_size = 64,\n",
    "  validation_split = 0.2\n",
    ")"
   ]
  },
  {
   "cell_type": "code",
   "execution_count": 144,
   "metadata": {
    "colab": {},
    "colab_type": "code",
    "id": "ycwobM-xeCYa"
   },
   "outputs": [],
   "source": [
    "model.save('Attempt_1_3.h5')"
   ]
  },
  {
   "cell_type": "code",
   "execution_count": 145,
   "metadata": {},
   "outputs": [],
   "source": [
    "hist = history.history\n",
    "\n",
    "acc = hist['acc']\n",
    "val_acc = hist['val_acc']\n",
    "\n",
    "loss = hist['loss']\n",
    "val_loss = hist['val_loss']\n",
    "\n",
    "epochs = range(1,len(acc)+1)"
   ]
  },
  {
   "cell_type": "code",
   "execution_count": 146,
   "metadata": {},
   "outputs": [
    {
     "data": {
      "image/png": "[encoded data removed]",
      "text/plain": [
       "<Figure size 432x288 with 1 Axes>"
      ]
     },
     "metadata": {
      "needs_background": "light"
     },
     "output_type": "display_data"
    },
    {
     "data": {
      "image/png": "[encoded data removed]",
      "text/plain": [
       "<Figure size 432x288 with 1 Axes>"
      ]
     },
     "metadata": {
      "needs_background": "light"
     },
     "output_type": "display_data"
    }
   ],
   "source": [
    "plt.plot(epochs, acc, 'bo', label='training acc')\n",
    "plt.plot(epochs, val_acc, 'b', label='validation acc')\n",
    "plt.title('training and validation accuracy')\n",
    "plt.legend()\n",
    "\n",
    "plt.figure()\n",
    "\n",
    "# training and validation loss\n",
    "\n",
    "plt.plot(epochs, loss, 'bo', label='training loss')\n",
    "plt.plot(epochs, val_loss, 'b', label='validation loss')\n",
    "plt.title('training and validation loss')\n",
    "plt.legend()\n",
    "\n",
    "plt.show()"
   ]
  },
  {
   "cell_type": "code",
   "execution_count": 147,
   "metadata": {},
   "outputs": [
    {
     "name": "stdout",
     "output_type": "stream",
     "text": [
      "10000/10000 [==============================] - 10s 992us/step\n"
     ]
    }
   ],
   "source": [
    "loss, acc = model.evaluate(\n",
    "    x=test_images,\n",
    "    y=test_labels_categorical\n",
    ")"
   ]
  },
  {
   "cell_type": "code",
   "execution_count": 148,
   "metadata": {},
   "outputs": [
    {
     "name": "stdout",
     "output_type": "stream",
     "text": [
      "Loss: 4.039632723236084\n",
      "Accuracy: 0.1071\n"
     ]
    }
   ],
   "source": [
    "print(\"Loss: \"+str(loss))\n",
    "print(\"Accuracy: \"+str(acc))"
   ]
  },
  {
   "cell_type": "code",
   "execution_count": 154,
   "metadata": {},
   "outputs": [
    {
     "data": {
      "text/plain": [
       "array([[0.0928739 , 0.0969617 , 0.09415276, 0.10192751, 0.09790649,\n",
       "        0.10091498, 0.09853123, 0.10014021, 0.10906768, 0.10752353]],\n",
       "      dtype=float32)"
      ]
     },
     "execution_count": 154,
     "metadata": {},
     "output_type": "execute_result"
    }
   ],
   "source": [
    "model.predict(x=train_images_norm[0].reshape(1,32,32,3))"
   ]
  },
  {
   "cell_type": "code",
   "execution_count": 155,
   "metadata": {},
   "outputs": [
    {
     "data": {
      "text/plain": [
       "<matplotlib.image.AxesImage at 0x1e78e325668>"
      ]
     },
     "execution_count": 155,
     "metadata": {},
     "output_type": "execute_result"
    },
    {
     "data": {
      "image/png": "[encoded data removed]",
      "text/plain": [
       "<Figure size 432x288 with 1 Axes>"
      ]
     },
     "metadata": {
      "needs_background": "light"
     },
     "output_type": "display_data"
    }
   ],
   "source": [
    "plt.imshow(train_images_norm[0])"
   ]
  },
  {
   "cell_type": "code",
   "execution_count": 156,
   "metadata": {},
   "outputs": [
    {
     "data": {
      "text/plain": [
       "array([0., 0., 0., 0., 0., 0., 1., 0., 0., 0.], dtype=float32)"
      ]
     },
     "execution_count": 156,
     "metadata": {},
     "output_type": "execute_result"
    }
   ],
   "source": [
    "train_labels_categorical[0]"
   ]
  },
  {
   "cell_type": "code",
   "execution_count": null,
   "metadata": {},
   "outputs": [],
   "source": []
  }
 ],
 "metadata": {
  "colab": {
   "collapsed_sections": [],
   "name": "Untitled1.ipynb",
   "provenance": [],
   "version": "0.3.2"
  },
  "kernelspec": {
   "display_name": "Python 3",
   "language": "python",
   "name": "python3"
  },
  "language_info": {
   "codemirror_mode": {
    "name": "ipython",
    "version": 3
   },
   "file_extension": ".py",
   "mimetype": "text/x-python",
   "name": "python",
   "nbconvert_exporter": "python",
   "pygments_lexer": "ipython3",
   "version": "3.7.1"
  }
 },
 "nbformat": 4,
 "nbformat_minor": 1
}
