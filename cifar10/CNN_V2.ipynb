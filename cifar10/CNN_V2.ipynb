{
 "cells": [
  {
   "cell_type": "code",
   "execution_count": 17,
   "metadata": {
    "colab": {},
    "colab_type": "code",
    "id": "AxJKjJ5oNRGi"
   },
   "outputs": [],
   "source": [
    "from keras.datasets import cifar10\n",
    "from keras.datasets import mnist\n",
    "from keras.utils import to_categorical"
   ]
  },
  {
   "cell_type": "code",
   "execution_count": 18,
   "metadata": {
    "colab": {},
    "colab_type": "code",
    "id": "QwI89K5pVoiA"
   },
   "outputs": [],
   "source": [
    "(train_images, train_labels),(test_images,test_labels) = cifar10.load_data()"
   ]
  },
  {
   "cell_type": "code",
   "execution_count": 19,
   "metadata": {
    "colab": {
     "base_uri": "https://localhost:8080/",
     "height": 70
    },
    "colab_type": "code",
    "id": "00GdCHUdO7sU",
    "outputId": "413cc5f8-176c-4cb6-e5fa-1a7b037d2ae8"
   },
   "outputs": [
    {
     "name": "stdout",
     "output_type": "stream",
     "text": [
      "50000\n",
      "10000\n",
      "(32, 32, 3)\n"
     ]
    }
   ],
   "source": [
    "print(len(train_images))\n",
    "print(len(test_images))\n",
    "print(train_images[0].shape)"
   ]
  },
  {
   "cell_type": "code",
   "execution_count": 20,
   "metadata": {
    "colab": {
     "base_uri": "https://localhost:8080/",
     "height": 199
    },
    "colab_type": "code",
    "id": "3NQX_PSvTH3a",
    "outputId": "b8723f93-2258-4743-bcb7-9cc4e623379a"
   },
   "outputs": [
    {
     "data": {
      "text/plain": [
       "<matplotlib.image.AxesImage at 0x24c8a35bd68>"
      ]
     },
     "execution_count": 20,
     "metadata": {},
     "output_type": "execute_result"
    },
    {
     "data": {
      "image/png": "[encoded data removed]",
      "text/plain": [
       "<Figure size 432x288 with 3 Axes>"
      ]
     },
     "metadata": {
      "needs_background": "light"
     },
     "output_type": "display_data"
    }
   ],
   "source": [
    "import matplotlib.pyplot as plt\n",
    "%matplotlib inline\n",
    "_, axarr = plt.subplots(1,3)\n",
    "axarr[0].imshow(train_images[0,:,:,2])\n",
    "axarr[1].imshow(train_images[0,:,:,1])\n",
    "axarr[2].imshow(train_images[0,:,:,0])"
   ]
  },
  {
   "cell_type": "code",
   "execution_count": 1,
   "metadata": {
    "colab": {},
    "colab_type": "code",
    "id": "byGdeaJJSBzp"
   },
   "outputs": [
    {
     "name": "stderr",
     "output_type": "stream",
     "text": [
      "Using TensorFlow backend.\n"
     ]
    },
    {
     "name": "stdout",
     "output_type": "stream",
     "text": [
      "WARNING:tensorflow:From C:\\Users\\gabal\\Anaconda3\\lib\\site-packages\\tensorflow\\python\\framework\\op_def_library.py:263: colocate_with (from tensorflow.python.framework.ops) is deprecated and will be removed in a future version.\n",
      "Instructions for updating:\n",
      "Colocations handled automatically by placer.\n"
     ]
    }
   ],
   "source": [
    "from keras import layers\n",
    "from keras import models\n",
    "\n",
    "model = models.Sequential()\n",
    "\n",
    "model.add(layers.Conv2D(32,(3,3), padding=\"same\",activation='relu',input_shape=(32,32,3)))\n",
    "model.add(layers.BatchNormalization())\n",
    "model.add(layers.Conv2D(32,(3,3), padding=\"same\", activation='relu'))\n",
    "model.add(layers.BatchNormalization())\n",
    "model.add(layers.MaxPooling2D(2,2))\n",
    "\n",
    "model.add(layers.Conv2D(64,(3,3), padding=\"same\", activation='relu'))\n",
    "model.add(layers.BatchNormalization())\n",
    "model.add(layers.Conv2D(64,(3,3), padding=\"same\", activation='relu'))\n",
    "model.add(layers.BatchNormalization())\n",
    "model.add(layers.MaxPooling2D(2,2))\n",
    "\n",
    "model.add(layers.Conv2D(128,(3,3), padding=\"same\", activation='relu'))\n",
    "model.add(layers.BatchNormalization())\n",
    "model.add(layers.Conv2D(128,(3,3),padding=\"same\", activation='relu'))\n",
    "model.add(layers.BatchNormalization())\n",
    "model.add(layers.MaxPooling2D(2,2))\n",
    "\n",
    "model.add(layers.Flatten())\n",
    "model.add(layers.Dense(128,activation='relu'))\n",
    "model.add(layers.Dense(10,activation=\"softmax\"))"
   ]
  },
  {
   "cell_type": "code",
   "execution_count": 2,
   "metadata": {
    "colab": {
     "base_uri": "https://localhost:8080/",
     "height": 457
    },
    "colab_type": "code",
    "id": "Y7RRWsLuSDyZ",
    "outputId": "23df4ddf-aded-4801-ec43-2f433f26bac5"
   },
   "outputs": [
    {
     "name": "stdout",
     "output_type": "stream",
     "text": [
      "_________________________________________________________________\n",
      "Layer (type)                 Output Shape              Param #   \n",
      "=================================================================\n",
      "conv2d_1 (Conv2D)            (None, 32, 32, 32)        896       \n",
      "_________________________________________________________________\n",
      "batch_normalization_1 (Batch (None, 32, 32, 32)        128       \n",
      "_________________________________________________________________\n",
      "conv2d_2 (Conv2D)            (None, 32, 32, 32)        9248      \n",
      "_________________________________________________________________\n",
      "batch_normalization_2 (Batch (None, 32, 32, 32)        128       \n",
      "_________________________________________________________________\n",
      "max_pooling2d_1 (MaxPooling2 (None, 16, 16, 32)        0         \n",
      "_________________________________________________________________\n",
      "conv2d_3 (Conv2D)            (None, 16, 16, 64)        18496     \n",
      "_________________________________________________________________\n",
      "batch_normalization_3 (Batch (None, 16, 16, 64)        256       \n",
      "_________________________________________________________________\n",
      "conv2d_4 (Conv2D)            (None, 16, 16, 64)        36928     \n",
      "_________________________________________________________________\n",
      "batch_normalization_4 (Batch (None, 16, 16, 64)        256       \n",
      "_________________________________________________________________\n",
      "max_pooling2d_2 (MaxPooling2 (None, 8, 8, 64)          0         \n",
      "_________________________________________________________________\n",
      "conv2d_5 (Conv2D)            (None, 8, 8, 128)         73856     \n",
      "_________________________________________________________________\n",
      "batch_normalization_5 (Batch (None, 8, 8, 128)         512       \n",
      "_________________________________________________________________\n",
      "conv2d_6 (Conv2D)            (None, 8, 8, 128)         147584    \n",
      "_________________________________________________________________\n",
      "batch_normalization_6 (Batch (None, 8, 8, 128)         512       \n",
      "_________________________________________________________________\n",
      "max_pooling2d_3 (MaxPooling2 (None, 4, 4, 128)         0         \n",
      "_________________________________________________________________\n",
      "flatten_1 (Flatten)          (None, 2048)              0         \n",
      "_________________________________________________________________\n",
      "dense_1 (Dense)              (None, 128)               262272    \n",
      "_________________________________________________________________\n",
      "dense_2 (Dense)              (None, 10)                1290      \n",
      "=================================================================\n",
      "Total params: 552,362\n",
      "Trainable params: 551,466\n",
      "Non-trainable params: 896\n",
      "_________________________________________________________________\n"
     ]
    }
   ],
   "source": [
    "model.summary()"
   ]
  },
  {
   "cell_type": "code",
   "execution_count": 24,
   "metadata": {},
   "outputs": [],
   "source": [
    "from sklearn.model_selection import train_test_split\n",
    "train_images_split,validation_images,train_labels_split,validation_labels = train_test_split(train_images,train_labels,test_size=0.2)"
   ]
  },
  {
   "cell_type": "code",
   "execution_count": 25,
   "metadata": {},
   "outputs": [],
   "source": [
    "train_labels_categorical = to_categorical(train_labels_split)\n",
    "validation_labels_categorical = to_categorical(validation_labels)\n",
    "test_labels_categorical = to_categorical(test_labels)"
   ]
  },
  {
   "cell_type": "code",
   "execution_count": 26,
   "metadata": {},
   "outputs": [],
   "source": [
    "from keras.preprocessing.image import ImageDataGenerator\n",
    "\n",
    "dataAugmentor_train = ImageDataGenerator(\n",
    "    rescale = 1./255,\n",
    "    rotation_range=15,\n",
    "    width_shift_range = 0.1,\n",
    "    height_shift_range= 0.1,\n",
    "    zoom_range = 0.1,\n",
    "    horizontal_flip = True,\n",
    "    fill_mode = 'nearest'\n",
    ")\n",
    "\n",
    "dataAugmentor_validation = ImageDataGenerator(\n",
    "    rescale = 1./255,\n",
    ")\n"
   ]
  },
  {
   "cell_type": "code",
   "execution_count": 27,
   "metadata": {},
   "outputs": [],
   "source": [
    "dataGenTrain = dataAugmentor_train.flow(\n",
    "    x=train_images_split,\n",
    "    y=train_labels_categorical,\n",
    "    batch_size = 64\n",
    ")\n",
    "\n",
    "dataGenValidation = dataAugmentor_validation.flow(\n",
    "    x=validation_images,\n",
    "    y=validation_labels_categorical,\n",
    "    batch_size = 64\n",
    ")"
   ]
  },
  {
   "cell_type": "code",
   "execution_count": 28,
   "metadata": {
    "colab": {},
    "colab_type": "code",
    "id": "lj1xL8WZUi5D"
   },
   "outputs": [],
   "source": [
    "from keras import optimizers\n",
    "opt = optimizers.RMSprop(lr=0.001)\n",
    "model.compile(\n",
    "  loss=\"categorical_crossentropy\",\n",
    "  optimizer=opt,\n",
    "  metrics=['acc']\n",
    ")\n"
   ]
  },
  {
   "cell_type": "code",
   "execution_count": null,
   "metadata": {
    "colab": {
     "base_uri": "https://localhost:8080/",
     "height": 160
    },
    "colab_type": "code",
    "id": "gYjZfGU4acdx",
    "outputId": "410dbb6c-8de7-40f0-bf1f-d041ce837073"
   },
   "outputs": [],
   "source": [
    "from math import ceil\n",
    "steps_per_epoch = ceil(len(train_images_split)/64)\n",
    "\n",
    "validation_steps = ceil(len(validation_images)/64)\n",
    "\n",
    "history = model.fit_generator(\n",
    "  dataGenTrain,\n",
    "  steps_per_epoch,\n",
    "  epochs=45,\n",
    "  validation_data = dataGenValidation,\n",
    "  validation_steps = validation_steps\n",
    ")"
   ]
  },
  {
   "cell_type": "code",
   "execution_count": 30,
   "metadata": {
    "colab": {},
    "colab_type": "code",
    "id": "ycwobM-xeCYa"
   },
   "outputs": [],
   "source": [
    "model.save('Attempt_3_1.h5')"
   ]
  },
  {
   "cell_type": "code",
   "execution_count": 31,
   "metadata": {},
   "outputs": [],
   "source": [
    "hist = history.history\n",
    "\n",
    "acc = hist['acc']\n",
    "val_acc = hist['val_acc']\n",
    "\n",
    "loss = hist['loss']\n",
    "val_loss = hist['val_loss']\n",
    "\n",
    "epochs = range(1,len(acc)+1)"
   ]
  },
  {
   "cell_type": "code",
   "execution_count": null,
   "metadata": {},
   "outputs": [],
   "source": [
    "plt.plot(epochs, acc, 'bo', label='training acc')\n",
    "plt.plot(epochs, val_acc, 'b', label='validation acc')\n",
    "plt.title('training and validation accuracy')\n",
    "plt.legend()\n",
    "\n",
    "plt.figure()\n",
    "\n",
    "# training and validation loss\n",
    "\n",
    "plt.plot(epochs, loss, 'bo', label='training loss')\n",
    "plt.plot(epochs, val_loss, 'b', label='validation loss')\n",
    "plt.title('training and validation loss')\n",
    "plt.legend()\n",
    "\n",
    "print(\"Train Accuracy: \")\n",
    "print(hist['acc'][-1])\n",
    "print(\"Validation Acuracy: \")\n",
    "print(hist['val_acc'][-1])\n",
    "plt.show()"
   ]
  },
  {
   "cell_type": "code",
   "execution_count": 33,
   "metadata": {},
   "outputs": [
    {
     "name": "stdout",
     "output_type": "stream",
     "text": [
      "10000/10000 [==============================] - 34s 3ms/step\n"
     ]
    }
   ],
   "source": [
    "loss, acc = model.evaluate(\n",
    "    x=test_images/255.,\n",
    "    y=test_labels_categorical\n",
    ")"
   ]
  },
  {
   "cell_type": "code",
   "execution_count": null,
   "metadata": {},
   "outputs": [],
   "source": [
    "print(\"Loss: \")\n",
    "print(loss)\n",
    "print(\"Accuracy: \")\n",
    "print(acc)"
   ]
  },
  {
   "cell_type": "code",
   "execution_count": 35,
   "metadata": {},
   "outputs": [],
   "source": [
    "import numpy as np\n",
    "import tensorflow as tf\n",
    "from keras.models import load_model\n",
    "\n",
    "model = load_model('Attempt_3_1.h5')"
   ]
  },
  {
   "cell_type": "code",
   "execution_count": null,
   "metadata": {},
   "outputs": [],
   "source": [
    "def get_examples(start,end,height = 10, width = 20):\n",
    "    class_names = ['airplan', 'automobile', 'bird', 'cat', 'deer', 'dog', 'frog', 'horse', 'ship', 'truck']\n",
    "    numImages = np.arange(start,end)\n",
    "    predictions = []\n",
    "    categories = []\n",
    "    for i in numImages:\n",
    "        #prediction from model for first 5 images\n",
    "        predictions.append(np.argmax(model.predict(x=test_images[i].reshape(1,32,32,3)/255.)))\n",
    "        categories.append(class_names[predictions[-1]])\n",
    "\n",
    "    #create subplots\n",
    "    (f, axs) = plt.subplots(1, len(predictions), sharey=True)\n",
    "    f.set_figheight(height)\n",
    "    f.set_figwidth(width)\n",
    "\n",
    "    guessNumber = 0\n",
    "    for i in numImages:\n",
    "        guess = categories[guessNumber]\n",
    "        actual = class_names[test_labels[i][0]]\n",
    "        actual = actual\n",
    "        xpos = (10-len(\"Actual : \"+ actual)/2)\n",
    "\n",
    "        if(actual == guess):\n",
    "            color = \"green\"\n",
    "        else:\n",
    "            color=\"red\"\n",
    "\n",
    "        axs[guessNumber].imshow(test_images[i])\n",
    "        axs[guessNumber].set_title(\"Guess : \" + categories[guessNumber],color=color)\n",
    "\n",
    "        axs[guessNumber].text(xpos,40, \"Actual : \" + actual,color=color)\n",
    "        guessNumber += 1\n",
    "    f.show()"
   ]
  },
  {
   "cell_type": "code",
   "execution_count": null,
   "metadata": {},
   "outputs": [],
   "source": [
    "get_examples(130,140,20,20)\n"
   ]
  },
  {
   "cell_type": "code",
   "execution_count": null,
   "metadata": {},
   "outputs": [],
   "source": []
  }
 ],
 "metadata": {
  "colab": {
   "collapsed_sections": [],
   "name": "Untitled1.ipynb",
   "provenance": [],
   "version": "0.3.2"
  },
  "kernelspec": {
   "display_name": "Python 3",
   "language": "python",
   "name": "python3"
  },
  "language_info": {
   "codemirror_mode": {
    "name": "ipython",
    "version": 3
   },
   "file_extension": ".py",
   "mimetype": "text/x-python",
   "name": "python",
   "nbconvert_exporter": "python",
   "pygments_lexer": "ipython3",
   "version": "3.7.1"
  }
 },
 "nbformat": 4,
 "nbformat_minor": 1
}
